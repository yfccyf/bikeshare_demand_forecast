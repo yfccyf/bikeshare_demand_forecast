{
 "cells": [
  {
   "cell_type": "code",
   "execution_count": 329,
   "metadata": {},
   "outputs": [],
   "source": [
    "import pandas as pd\n",
    "import numpy as np\n",
    "import matplotlib.pyplot as plt\n",
    "import seaborn as sns"
   ]
  },
  {
   "cell_type": "code",
   "execution_count": 330,
   "metadata": {},
   "outputs": [],
   "source": [
    "import warnings\n",
    "warnings.filterwarnings(\"ignore\")"
   ]
  },
  {
   "cell_type": "code",
   "execution_count": 331,
   "metadata": {},
   "outputs": [],
   "source": [
    "df = pd.read_csv('df_renamed.csv', index_col='datetime', encoding='latin1', parse_dates=True, dayfirst=True)"
   ]
  },
  {
   "cell_type": "code",
   "execution_count": 332,
   "metadata": {},
   "outputs": [
    {
     "data": {
      "text/html": [
       "<div>\n",
       "<style scoped>\n",
       "    .dataframe tbody tr th:only-of-type {\n",
       "        vertical-align: middle;\n",
       "    }\n",
       "\n",
       "    .dataframe tbody tr th {\n",
       "        vertical-align: top;\n",
       "    }\n",
       "\n",
       "    .dataframe thead th {\n",
       "        text-align: right;\n",
       "    }\n",
       "</style>\n",
       "<table border=\"1\" class=\"dataframe\">\n",
       "  <thead>\n",
       "    <tr style=\"text-align: right;\">\n",
       "      <th></th>\n",
       "      <th>count</th>\n",
       "      <th>temp</th>\n",
       "      <th>humidity</th>\n",
       "      <th>wind_speed</th>\n",
       "      <th>visibility</th>\n",
       "      <th>dew_point_temp</th>\n",
       "      <th>solar_radiation</th>\n",
       "      <th>rainfall</th>\n",
       "      <th>snowfall</th>\n",
       "      <th>seasons</th>\n",
       "      <th>holiday</th>\n",
       "      <th>functioning_day</th>\n",
       "      <th>date</th>\n",
       "      <th>year</th>\n",
       "      <th>month</th>\n",
       "      <th>day</th>\n",
       "      <th>hour</th>\n",
       "    </tr>\n",
       "    <tr>\n",
       "      <th>datetime</th>\n",
       "      <th></th>\n",
       "      <th></th>\n",
       "      <th></th>\n",
       "      <th></th>\n",
       "      <th></th>\n",
       "      <th></th>\n",
       "      <th></th>\n",
       "      <th></th>\n",
       "      <th></th>\n",
       "      <th></th>\n",
       "      <th></th>\n",
       "      <th></th>\n",
       "      <th></th>\n",
       "      <th></th>\n",
       "      <th></th>\n",
       "      <th></th>\n",
       "      <th></th>\n",
       "    </tr>\n",
       "  </thead>\n",
       "  <tbody>\n",
       "    <tr>\n",
       "      <th>2017-12-01 00:00:00</th>\n",
       "      <td>254</td>\n",
       "      <td>-5.2</td>\n",
       "      <td>37</td>\n",
       "      <td>2.2</td>\n",
       "      <td>2000</td>\n",
       "      <td>-17.6</td>\n",
       "      <td>0.0</td>\n",
       "      <td>0.0</td>\n",
       "      <td>0.0</td>\n",
       "      <td>Winter</td>\n",
       "      <td>No Holiday</td>\n",
       "      <td>Yes</td>\n",
       "      <td>2017-12-01</td>\n",
       "      <td>2017</td>\n",
       "      <td>12</td>\n",
       "      <td>1</td>\n",
       "      <td>0</td>\n",
       "    </tr>\n",
       "    <tr>\n",
       "      <th>2017-12-01 01:00:00</th>\n",
       "      <td>204</td>\n",
       "      <td>-5.5</td>\n",
       "      <td>38</td>\n",
       "      <td>0.8</td>\n",
       "      <td>2000</td>\n",
       "      <td>-17.6</td>\n",
       "      <td>0.0</td>\n",
       "      <td>0.0</td>\n",
       "      <td>0.0</td>\n",
       "      <td>Winter</td>\n",
       "      <td>No Holiday</td>\n",
       "      <td>Yes</td>\n",
       "      <td>2017-12-01</td>\n",
       "      <td>2017</td>\n",
       "      <td>12</td>\n",
       "      <td>1</td>\n",
       "      <td>1</td>\n",
       "    </tr>\n",
       "  </tbody>\n",
       "</table>\n",
       "</div>"
      ],
      "text/plain": [
       "                     count  temp  humidity  wind_speed  visibility  \\\n",
       "datetime                                                             \n",
       "2017-12-01 00:00:00    254  -5.2        37         2.2        2000   \n",
       "2017-12-01 01:00:00    204  -5.5        38         0.8        2000   \n",
       "\n",
       "                     dew_point_temp  solar_radiation  rainfall  snowfall  \\\n",
       "datetime                                                                   \n",
       "2017-12-01 00:00:00           -17.6              0.0       0.0       0.0   \n",
       "2017-12-01 01:00:00           -17.6              0.0       0.0       0.0   \n",
       "\n",
       "                    seasons     holiday functioning_day        date  year  \\\n",
       "datetime                                                                    \n",
       "2017-12-01 00:00:00  Winter  No Holiday             Yes  2017-12-01  2017   \n",
       "2017-12-01 01:00:00  Winter  No Holiday             Yes  2017-12-01  2017   \n",
       "\n",
       "                     month  day  hour  \n",
       "datetime                               \n",
       "2017-12-01 00:00:00     12    1     0  \n",
       "2017-12-01 01:00:00     12    1     1  "
      ]
     },
     "execution_count": 332,
     "metadata": {},
     "output_type": "execute_result"
    }
   ],
   "source": [
    "df.head(2)"
   ]
  },
  {
   "cell_type": "code",
   "execution_count": 333,
   "metadata": {},
   "outputs": [
    {
     "data": {
      "text/plain": [
       "(8760, 17)"
      ]
     },
     "execution_count": 333,
     "metadata": {},
     "output_type": "execute_result"
    }
   ],
   "source": [
    "df.shape"
   ]
  },
  {
   "cell_type": "markdown",
   "metadata": {},
   "source": [
    "# Feature Engineering"
   ]
  },
  {
   "cell_type": "markdown",
   "metadata": {},
   "source": [
    "##### (this section is for regression purpose)"
   ]
  },
  {
   "cell_type": "markdown",
   "metadata": {},
   "source": [
    "##### (train test split for the purpose of time series analysis will be  in later section)"
   ]
  },
  {
   "cell_type": "markdown",
   "metadata": {},
   "source": [
    "### Train test split"
   ]
  },
  {
   "cell_type": "code",
   "execution_count": 334,
   "metadata": {},
   "outputs": [],
   "source": [
    "# before train test split, need to transform some variables on the whole dataset\n",
    "# for the sake of future feature engineering\n",
    "\n",
    "# because the  future log transformation cannot process zero or negative values\n",
    "# therefore, it is necessary to add a constant value to such variables\n",
    "# such variables every numeric variable except \"visibility\"\n",
    "# I decide to add a constant value of 50 to all those variables\n",
    "\n",
    "# save the old copy as csv\n",
    "df_before_adding_constant = df.copy\n",
    "\n",
    "\n",
    "df['count_transformed'] = df['count'].apply(lambda x: x+50)\n",
    "df['temp_transformed'] = df['temp'].apply(lambda x: x+50)\n",
    "df['humidity_transformed'] = df['humidity'].apply(lambda x: x+50)\n",
    "df['wind_speed_transformed'] = df['wind_speed'].apply(lambda x: x+50)\n",
    "df['dew_point_temp_transformed'] = df['dew_point_temp'].apply(lambda x: x+50)\n",
    "df['solar_radiation_transformed'] = df['solar_radiation'].apply(lambda x: x+50)\n",
    "df['rainfall_transformed'] = df['rainfall'].apply(lambda x: x+50)\n",
    "df['snowfall_transformed'] = df['snowfall'].apply(lambda x: x+50)"
   ]
  },
  {
   "cell_type": "code",
   "execution_count": 335,
   "metadata": {},
   "outputs": [
    {
     "data": {
      "text/plain": [
       "Index(['count', 'temp', 'humidity', 'wind_speed', 'visibility',\n",
       "       'dew_point_temp', 'solar_radiation', 'rainfall', 'snowfall', 'seasons',\n",
       "       'holiday', 'functioning_day', 'date', 'year', 'month', 'day', 'hour',\n",
       "       'count_transformed', 'temp_transformed', 'humidity_transformed',\n",
       "       'wind_speed_transformed', 'dew_point_temp_transformed',\n",
       "       'solar_radiation_transformed', 'rainfall_transformed',\n",
       "       'snowfall_transformed'],\n",
       "      dtype='object')"
      ]
     },
     "execution_count": 335,
     "metadata": {},
     "output_type": "execute_result"
    }
   ],
   "source": [
    "df.columns"
   ]
  },
  {
   "cell_type": "code",
   "execution_count": 336,
   "metadata": {},
   "outputs": [],
   "source": [
    "# delete old columns\n",
    "df.drop(columns=['count', 'temp', 'humidity', 'wind_speed',\n",
    "       'dew_point_temp', 'solar_radiation', 'rainfall', 'snowfall', 'date', 'year', 'month', 'day', 'hour'], inplace=True)"
   ]
  },
  {
   "cell_type": "code",
   "execution_count": 337,
   "metadata": {},
   "outputs": [
    {
     "data": {
      "text/html": [
       "<div>\n",
       "<style scoped>\n",
       "    .dataframe tbody tr th:only-of-type {\n",
       "        vertical-align: middle;\n",
       "    }\n",
       "\n",
       "    .dataframe tbody tr th {\n",
       "        vertical-align: top;\n",
       "    }\n",
       "\n",
       "    .dataframe thead th {\n",
       "        text-align: right;\n",
       "    }\n",
       "</style>\n",
       "<table border=\"1\" class=\"dataframe\">\n",
       "  <thead>\n",
       "    <tr style=\"text-align: right;\">\n",
       "      <th></th>\n",
       "      <th>visibility</th>\n",
       "      <th>seasons</th>\n",
       "      <th>holiday</th>\n",
       "      <th>functioning_day</th>\n",
       "      <th>count_transformed</th>\n",
       "      <th>temp_transformed</th>\n",
       "      <th>humidity_transformed</th>\n",
       "      <th>wind_speed_transformed</th>\n",
       "      <th>dew_point_temp_transformed</th>\n",
       "      <th>solar_radiation_transformed</th>\n",
       "      <th>rainfall_transformed</th>\n",
       "      <th>snowfall_transformed</th>\n",
       "    </tr>\n",
       "    <tr>\n",
       "      <th>datetime</th>\n",
       "      <th></th>\n",
       "      <th></th>\n",
       "      <th></th>\n",
       "      <th></th>\n",
       "      <th></th>\n",
       "      <th></th>\n",
       "      <th></th>\n",
       "      <th></th>\n",
       "      <th></th>\n",
       "      <th></th>\n",
       "      <th></th>\n",
       "      <th></th>\n",
       "    </tr>\n",
       "  </thead>\n",
       "  <tbody>\n",
       "    <tr>\n",
       "      <th>2017-12-01 00:00:00</th>\n",
       "      <td>2000</td>\n",
       "      <td>Winter</td>\n",
       "      <td>No Holiday</td>\n",
       "      <td>Yes</td>\n",
       "      <td>304</td>\n",
       "      <td>44.8</td>\n",
       "      <td>87</td>\n",
       "      <td>52.2</td>\n",
       "      <td>32.4</td>\n",
       "      <td>50.0</td>\n",
       "      <td>50.0</td>\n",
       "      <td>50.0</td>\n",
       "    </tr>\n",
       "    <tr>\n",
       "      <th>2017-12-01 01:00:00</th>\n",
       "      <td>2000</td>\n",
       "      <td>Winter</td>\n",
       "      <td>No Holiday</td>\n",
       "      <td>Yes</td>\n",
       "      <td>254</td>\n",
       "      <td>44.5</td>\n",
       "      <td>88</td>\n",
       "      <td>50.8</td>\n",
       "      <td>32.4</td>\n",
       "      <td>50.0</td>\n",
       "      <td>50.0</td>\n",
       "      <td>50.0</td>\n",
       "    </tr>\n",
       "  </tbody>\n",
       "</table>\n",
       "</div>"
      ],
      "text/plain": [
       "                     visibility seasons     holiday functioning_day  \\\n",
       "datetime                                                              \n",
       "2017-12-01 00:00:00        2000  Winter  No Holiday             Yes   \n",
       "2017-12-01 01:00:00        2000  Winter  No Holiday             Yes   \n",
       "\n",
       "                     count_transformed  temp_transformed  \\\n",
       "datetime                                                   \n",
       "2017-12-01 00:00:00                304              44.8   \n",
       "2017-12-01 01:00:00                254              44.5   \n",
       "\n",
       "                     humidity_transformed  wind_speed_transformed  \\\n",
       "datetime                                                            \n",
       "2017-12-01 00:00:00                    87                    52.2   \n",
       "2017-12-01 01:00:00                    88                    50.8   \n",
       "\n",
       "                     dew_point_temp_transformed  solar_radiation_transformed  \\\n",
       "datetime                                                                       \n",
       "2017-12-01 00:00:00                        32.4                         50.0   \n",
       "2017-12-01 01:00:00                        32.4                         50.0   \n",
       "\n",
       "                     rainfall_transformed  snowfall_transformed  \n",
       "datetime                                                         \n",
       "2017-12-01 00:00:00                  50.0                  50.0  \n",
       "2017-12-01 01:00:00                  50.0                  50.0  "
      ]
     },
     "execution_count": 337,
     "metadata": {},
     "output_type": "execute_result"
    }
   ],
   "source": [
    "df.head(2)"
   ]
  },
  {
   "cell_type": "code",
   "execution_count": 338,
   "metadata": {},
   "outputs": [
    {
     "data": {
      "text/plain": [
       "((7008, 12), (1752, 12), (7008,), (1752,))"
      ]
     },
     "execution_count": 338,
     "metadata": {},
     "output_type": "execute_result"
    }
   ],
   "source": [
    "# Train test split before feature engineering to avoid data leakage\n",
    "# Processing on the test set should be propogated from the training set\n",
    "from sklearn.model_selection import train_test_split\n",
    "X_train, X_test, y_train, y_test = train_test_split(df.iloc[:, :], df.iloc[:, 4], test_size=0.2, random_state=0)\n",
    "X_train.shape, X_test.shape, y_train.shape, y_test.shape"
   ]
  },
  {
   "cell_type": "markdown",
   "metadata": {},
   "source": [
    "### Plan"
   ]
  },
  {
   "cell_type": "code",
   "execution_count": 339,
   "metadata": {},
   "outputs": [],
   "source": [
    "# Plan:\n",
    "\n",
    "# Categorical variables encoding:\n",
    "# \"seasons\": target-guided encoding\n",
    "# \"holiday\": OneHotEncoding\n",
    "# \"functioning_day\": OneHotEncoding\n",
    "\n",
    "# Numerical varaible transformation: log\n",
    "\n",
    "# Feature scaling: Standardization"
   ]
  },
  {
   "cell_type": "markdown",
   "metadata": {},
   "source": [
    "### Categorical variable encoding"
   ]
  },
  {
   "cell_type": "markdown",
   "metadata": {},
   "source": [
    "##### \"season\" - target-guided encoding"
   ]
  },
  {
   "cell_type": "code",
   "execution_count": 340,
   "metadata": {},
   "outputs": [],
   "source": [
    "# \"seasons\" - target-guided encoding\n",
    "# encoded by the seasonal variation (lowest to highest)\n",
    "# winter - spring - autum - spring"
   ]
  },
  {
   "cell_type": "code",
   "execution_count": 341,
   "metadata": {},
   "outputs": [
    {
     "name": "stdout",
     "output_type": "stream",
     "text": [
      "spring:  730.0 per hour\n",
      "summer:  1034.0 per hour\n",
      "autumn:  820.0 per hour\n",
      "winter:  226.0 per hour\n"
     ]
    }
   ],
   "source": [
    "# let's explore the relationship of the categories with the target\n",
    "\n",
    "spring = df[df['seasons'] == 'Spring']\n",
    "summer = df[df['seasons'] == 'Summer']\n",
    "autumn = df[df['seasons'] == 'Autumn']\n",
    "winter = df[df['seasons'] == 'Winter']\n",
    "\n",
    "print('spring: ', round(spring['count_transformed'].mean(),0)-50, \"per hour\")\n",
    "print('summer: ', round(summer['count_transformed'].mean(),0)-50, \"per hour\")\n",
    "print('autumn: ', round(autumn['count_transformed'].mean(), 0)-50, \"per hour\")\n",
    "print('winter: ', round(winter['count_transformed'].mean(),0)-50, \"per hour\")"
   ]
  },
  {
   "cell_type": "code",
   "execution_count": 342,
   "metadata": {},
   "outputs": [
    {
     "data": {
      "text/plain": [
       "seasons\n",
       "Winter     275.813805\n",
       "Spring     783.547782\n",
       "Autumn     866.887882\n",
       "Summer    1099.292614\n",
       "Name: count_transformed, dtype: float64"
      ]
     },
     "execution_count": 342,
     "metadata": {},
     "output_type": "execute_result"
    }
   ],
   "source": [
    "# order the season labels according to the mean target value\n",
    "X_train.groupby(['seasons'])['count_transformed'].mean().sort_values()"
   ]
  },
  {
   "cell_type": "code",
   "execution_count": 343,
   "metadata": {},
   "outputs": [
    {
     "data": {
      "text/plain": [
       "Index(['Winter', 'Spring', 'Autumn', 'Summer'], dtype='object', name='seasons')"
      ]
     },
     "execution_count": 343,
     "metadata": {},
     "output_type": "execute_result"
    }
   ],
   "source": [
    "# generate an ordered list with the labels\n",
    "ordered_labels = X_train.groupby(['seasons'])['count_transformed'].mean().sort_values().index\n",
    "\n",
    "ordered_labels"
   ]
  },
  {
   "cell_type": "code",
   "execution_count": 344,
   "metadata": {},
   "outputs": [
    {
     "data": {
      "text/plain": [
       "{'Winter': 0, 'Spring': 1, 'Autumn': 2, 'Summer': 3}"
      ]
     },
     "execution_count": 344,
     "metadata": {},
     "output_type": "execute_result"
    }
   ],
   "source": [
    "# create a dictionary with the mappings of categories to numbers\n",
    "\n",
    "ordinal_mapping = {k: i for i, k in enumerate(ordered_labels, 0)}\n",
    "\n",
    "ordinal_mapping"
   ]
  },
  {
   "cell_type": "code",
   "execution_count": 345,
   "metadata": {},
   "outputs": [],
   "source": [
    "# replace the labels with the integers (results propogated from training to test set)\n",
    "\n",
    "X_train['seasons'] = X_train['seasons'].map(ordinal_mapping)\n",
    "X_test['seasons'] = X_test['seasons'].map(ordinal_mapping)"
   ]
  },
  {
   "cell_type": "code",
   "execution_count": 346,
   "metadata": {},
   "outputs": [
    {
     "data": {
      "text/plain": [
       "datetime\n",
       "2018-02-23 15:00:00    0\n",
       "2018-08-31 18:00:00    3\n",
       "2018-08-23 11:00:00    3\n",
       "2018-04-25 10:00:00    1\n",
       "2018-10-17 20:00:00    2\n",
       "2018-04-10 16:00:00    1\n",
       "2018-09-23 18:00:00    2\n",
       "2018-08-23 16:00:00    3\n",
       "2018-09-21 15:00:00    2\n",
       "2018-09-30 22:00:00    2\n",
       "Name: seasons, dtype: int64"
      ]
     },
     "execution_count": 346,
     "metadata": {},
     "output_type": "execute_result"
    }
   ],
   "source": [
    "# check the results\n",
    "X_train['seasons'].head(10)"
   ]
  },
  {
   "cell_type": "code",
   "execution_count": 347,
   "metadata": {},
   "outputs": [
    {
     "data": {
      "text/plain": [
       "datetime\n",
       "2018-05-19 03:00:00    1\n",
       "2018-09-15 02:00:00    2\n",
       "2017-12-10 17:00:00    0\n",
       "2018-01-10 22:00:00    0\n",
       "2018-08-06 15:00:00    3\n",
       "Name: seasons, dtype: int64"
      ]
     },
     "execution_count": 347,
     "metadata": {},
     "output_type": "execute_result"
    }
   ],
   "source": [
    "X_test['seasons'].head()"
   ]
  },
  {
   "cell_type": "code",
   "execution_count": 348,
   "metadata": {},
   "outputs": [
    {
     "data": {
      "text/html": [
       "<div>\n",
       "<style scoped>\n",
       "    .dataframe tbody tr th:only-of-type {\n",
       "        vertical-align: middle;\n",
       "    }\n",
       "\n",
       "    .dataframe tbody tr th {\n",
       "        vertical-align: top;\n",
       "    }\n",
       "\n",
       "    .dataframe thead th {\n",
       "        text-align: right;\n",
       "    }\n",
       "</style>\n",
       "<table border=\"1\" class=\"dataframe\">\n",
       "  <thead>\n",
       "    <tr style=\"text-align: right;\">\n",
       "      <th></th>\n",
       "      <th>visibility</th>\n",
       "      <th>seasons</th>\n",
       "      <th>holiday</th>\n",
       "      <th>functioning_day</th>\n",
       "      <th>count_transformed</th>\n",
       "      <th>temp_transformed</th>\n",
       "      <th>humidity_transformed</th>\n",
       "      <th>wind_speed_transformed</th>\n",
       "      <th>dew_point_temp_transformed</th>\n",
       "      <th>solar_radiation_transformed</th>\n",
       "      <th>rainfall_transformed</th>\n",
       "      <th>snowfall_transformed</th>\n",
       "    </tr>\n",
       "    <tr>\n",
       "      <th>datetime</th>\n",
       "      <th></th>\n",
       "      <th></th>\n",
       "      <th></th>\n",
       "      <th></th>\n",
       "      <th></th>\n",
       "      <th></th>\n",
       "      <th></th>\n",
       "      <th></th>\n",
       "      <th></th>\n",
       "      <th></th>\n",
       "      <th></th>\n",
       "      <th></th>\n",
       "    </tr>\n",
       "  </thead>\n",
       "  <tbody>\n",
       "    <tr>\n",
       "      <th>2018-02-23 15:00:00</th>\n",
       "      <td>291</td>\n",
       "      <td>0</td>\n",
       "      <td>No Holiday</td>\n",
       "      <td>Yes</td>\n",
       "      <td>362</td>\n",
       "      <td>58.2</td>\n",
       "      <td>112</td>\n",
       "      <td>50.6</td>\n",
       "      <td>51.3</td>\n",
       "      <td>51.22</td>\n",
       "      <td>50.0</td>\n",
       "      <td>50.0</td>\n",
       "    </tr>\n",
       "    <tr>\n",
       "      <th>2018-08-31 18:00:00</th>\n",
       "      <td>2000</td>\n",
       "      <td>3</td>\n",
       "      <td>No Holiday</td>\n",
       "      <td>Yes</td>\n",
       "      <td>2886</td>\n",
       "      <td>78.4</td>\n",
       "      <td>107</td>\n",
       "      <td>52.4</td>\n",
       "      <td>69.0</td>\n",
       "      <td>50.84</td>\n",
       "      <td>50.0</td>\n",
       "      <td>50.0</td>\n",
       "    </tr>\n",
       "    <tr>\n",
       "      <th>2018-08-23 11:00:00</th>\n",
       "      <td>1992</td>\n",
       "      <td>3</td>\n",
       "      <td>No Holiday</td>\n",
       "      <td>Yes</td>\n",
       "      <td>761</td>\n",
       "      <td>79.9</td>\n",
       "      <td>107</td>\n",
       "      <td>51.7</td>\n",
       "      <td>70.4</td>\n",
       "      <td>50.88</td>\n",
       "      <td>50.1</td>\n",
       "      <td>50.0</td>\n",
       "    </tr>\n",
       "    <tr>\n",
       "      <th>2018-04-25 10:00:00</th>\n",
       "      <td>1749</td>\n",
       "      <td>1</td>\n",
       "      <td>No Holiday</td>\n",
       "      <td>Yes</td>\n",
       "      <td>806</td>\n",
       "      <td>64.8</td>\n",
       "      <td>79</td>\n",
       "      <td>50.6</td>\n",
       "      <td>47.0</td>\n",
       "      <td>52.20</td>\n",
       "      <td>50.0</td>\n",
       "      <td>50.0</td>\n",
       "    </tr>\n",
       "    <tr>\n",
       "      <th>2018-10-17 20:00:00</th>\n",
       "      <td>2000</td>\n",
       "      <td>2</td>\n",
       "      <td>No Holiday</td>\n",
       "      <td>Yes</td>\n",
       "      <td>1608</td>\n",
       "      <td>62.2</td>\n",
       "      <td>97</td>\n",
       "      <td>51.1</td>\n",
       "      <td>51.2</td>\n",
       "      <td>50.00</td>\n",
       "      <td>50.0</td>\n",
       "      <td>50.0</td>\n",
       "    </tr>\n",
       "  </tbody>\n",
       "</table>\n",
       "</div>"
      ],
      "text/plain": [
       "                     visibility  seasons     holiday functioning_day  \\\n",
       "datetime                                                               \n",
       "2018-02-23 15:00:00         291        0  No Holiday             Yes   \n",
       "2018-08-31 18:00:00        2000        3  No Holiday             Yes   \n",
       "2018-08-23 11:00:00        1992        3  No Holiday             Yes   \n",
       "2018-04-25 10:00:00        1749        1  No Holiday             Yes   \n",
       "2018-10-17 20:00:00        2000        2  No Holiday             Yes   \n",
       "\n",
       "                     count_transformed  temp_transformed  \\\n",
       "datetime                                                   \n",
       "2018-02-23 15:00:00                362              58.2   \n",
       "2018-08-31 18:00:00               2886              78.4   \n",
       "2018-08-23 11:00:00                761              79.9   \n",
       "2018-04-25 10:00:00                806              64.8   \n",
       "2018-10-17 20:00:00               1608              62.2   \n",
       "\n",
       "                     humidity_transformed  wind_speed_transformed  \\\n",
       "datetime                                                            \n",
       "2018-02-23 15:00:00                   112                    50.6   \n",
       "2018-08-31 18:00:00                   107                    52.4   \n",
       "2018-08-23 11:00:00                   107                    51.7   \n",
       "2018-04-25 10:00:00                    79                    50.6   \n",
       "2018-10-17 20:00:00                    97                    51.1   \n",
       "\n",
       "                     dew_point_temp_transformed  solar_radiation_transformed  \\\n",
       "datetime                                                                       \n",
       "2018-02-23 15:00:00                        51.3                        51.22   \n",
       "2018-08-31 18:00:00                        69.0                        50.84   \n",
       "2018-08-23 11:00:00                        70.4                        50.88   \n",
       "2018-04-25 10:00:00                        47.0                        52.20   \n",
       "2018-10-17 20:00:00                        51.2                        50.00   \n",
       "\n",
       "                     rainfall_transformed  snowfall_transformed  \n",
       "datetime                                                         \n",
       "2018-02-23 15:00:00                  50.0                  50.0  \n",
       "2018-08-31 18:00:00                  50.0                  50.0  \n",
       "2018-08-23 11:00:00                  50.1                  50.0  \n",
       "2018-04-25 10:00:00                  50.0                  50.0  \n",
       "2018-10-17 20:00:00                  50.0                  50.0  "
      ]
     },
     "execution_count": 348,
     "metadata": {},
     "output_type": "execute_result"
    }
   ],
   "source": [
    "X_train.head()"
   ]
  },
  {
   "cell_type": "markdown",
   "metadata": {},
   "source": [
    "##### \"holiday\" & 'functioning_day\" - OneHotEncoding"
   ]
  },
  {
   "cell_type": "code",
   "execution_count": 349,
   "metadata": {},
   "outputs": [],
   "source": [
    "X_train_cat = X_train[['holiday', 'functioning_day']]\n",
    "X_test_cat = X_test[['holiday', 'functioning_day']]"
   ]
  },
  {
   "cell_type": "code",
   "execution_count": 350,
   "metadata": {},
   "outputs": [
    {
     "data": {
      "text/html": [
       "<div>\n",
       "<style scoped>\n",
       "    .dataframe tbody tr th:only-of-type {\n",
       "        vertical-align: middle;\n",
       "    }\n",
       "\n",
       "    .dataframe tbody tr th {\n",
       "        vertical-align: top;\n",
       "    }\n",
       "\n",
       "    .dataframe thead th {\n",
       "        text-align: right;\n",
       "    }\n",
       "</style>\n",
       "<table border=\"1\" class=\"dataframe\">\n",
       "  <thead>\n",
       "    <tr style=\"text-align: right;\">\n",
       "      <th></th>\n",
       "      <th>holiday</th>\n",
       "      <th>functioning_day</th>\n",
       "    </tr>\n",
       "    <tr>\n",
       "      <th>datetime</th>\n",
       "      <th></th>\n",
       "      <th></th>\n",
       "    </tr>\n",
       "  </thead>\n",
       "  <tbody>\n",
       "    <tr>\n",
       "      <th>2018-05-19 03:00:00</th>\n",
       "      <td>No Holiday</td>\n",
       "      <td>Yes</td>\n",
       "    </tr>\n",
       "    <tr>\n",
       "      <th>2018-09-15 02:00:00</th>\n",
       "      <td>No Holiday</td>\n",
       "      <td>Yes</td>\n",
       "    </tr>\n",
       "    <tr>\n",
       "      <th>2017-12-10 17:00:00</th>\n",
       "      <td>No Holiday</td>\n",
       "      <td>Yes</td>\n",
       "    </tr>\n",
       "    <tr>\n",
       "      <th>2018-01-10 22:00:00</th>\n",
       "      <td>No Holiday</td>\n",
       "      <td>Yes</td>\n",
       "    </tr>\n",
       "    <tr>\n",
       "      <th>2018-08-06 15:00:00</th>\n",
       "      <td>No Holiday</td>\n",
       "      <td>Yes</td>\n",
       "    </tr>\n",
       "  </tbody>\n",
       "</table>\n",
       "</div>"
      ],
      "text/plain": [
       "                        holiday functioning_day\n",
       "datetime                                       \n",
       "2018-05-19 03:00:00  No Holiday             Yes\n",
       "2018-09-15 02:00:00  No Holiday             Yes\n",
       "2017-12-10 17:00:00  No Holiday             Yes\n",
       "2018-01-10 22:00:00  No Holiday             Yes\n",
       "2018-08-06 15:00:00  No Holiday             Yes"
      ]
     },
     "execution_count": 350,
     "metadata": {},
     "output_type": "execute_result"
    }
   ],
   "source": [
    "X_test_cat.head()"
   ]
  },
  {
   "cell_type": "code",
   "execution_count": 351,
   "metadata": {},
   "outputs": [],
   "source": [
    "X_train_rest = X_train.drop(X_train_cat, axis=1)\n",
    "X_test_rest = X_test.drop(X_test_cat, axis=1)"
   ]
  },
  {
   "cell_type": "code",
   "execution_count": 352,
   "metadata": {},
   "outputs": [
    {
     "data": {
      "text/html": [
       "<div>\n",
       "<style scoped>\n",
       "    .dataframe tbody tr th:only-of-type {\n",
       "        vertical-align: middle;\n",
       "    }\n",
       "\n",
       "    .dataframe tbody tr th {\n",
       "        vertical-align: top;\n",
       "    }\n",
       "\n",
       "    .dataframe thead th {\n",
       "        text-align: right;\n",
       "    }\n",
       "</style>\n",
       "<table border=\"1\" class=\"dataframe\">\n",
       "  <thead>\n",
       "    <tr style=\"text-align: right;\">\n",
       "      <th></th>\n",
       "      <th>visibility</th>\n",
       "      <th>seasons</th>\n",
       "      <th>count_transformed</th>\n",
       "      <th>temp_transformed</th>\n",
       "      <th>humidity_transformed</th>\n",
       "      <th>wind_speed_transformed</th>\n",
       "      <th>dew_point_temp_transformed</th>\n",
       "      <th>solar_radiation_transformed</th>\n",
       "      <th>rainfall_transformed</th>\n",
       "      <th>snowfall_transformed</th>\n",
       "    </tr>\n",
       "    <tr>\n",
       "      <th>datetime</th>\n",
       "      <th></th>\n",
       "      <th></th>\n",
       "      <th></th>\n",
       "      <th></th>\n",
       "      <th></th>\n",
       "      <th></th>\n",
       "      <th></th>\n",
       "      <th></th>\n",
       "      <th></th>\n",
       "      <th></th>\n",
       "    </tr>\n",
       "  </thead>\n",
       "  <tbody>\n",
       "    <tr>\n",
       "      <th>2018-02-23 15:00:00</th>\n",
       "      <td>291</td>\n",
       "      <td>0</td>\n",
       "      <td>362</td>\n",
       "      <td>58.2</td>\n",
       "      <td>112</td>\n",
       "      <td>50.6</td>\n",
       "      <td>51.3</td>\n",
       "      <td>51.22</td>\n",
       "      <td>50.0</td>\n",
       "      <td>50.0</td>\n",
       "    </tr>\n",
       "    <tr>\n",
       "      <th>2018-08-31 18:00:00</th>\n",
       "      <td>2000</td>\n",
       "      <td>3</td>\n",
       "      <td>2886</td>\n",
       "      <td>78.4</td>\n",
       "      <td>107</td>\n",
       "      <td>52.4</td>\n",
       "      <td>69.0</td>\n",
       "      <td>50.84</td>\n",
       "      <td>50.0</td>\n",
       "      <td>50.0</td>\n",
       "    </tr>\n",
       "    <tr>\n",
       "      <th>2018-08-23 11:00:00</th>\n",
       "      <td>1992</td>\n",
       "      <td>3</td>\n",
       "      <td>761</td>\n",
       "      <td>79.9</td>\n",
       "      <td>107</td>\n",
       "      <td>51.7</td>\n",
       "      <td>70.4</td>\n",
       "      <td>50.88</td>\n",
       "      <td>50.1</td>\n",
       "      <td>50.0</td>\n",
       "    </tr>\n",
       "    <tr>\n",
       "      <th>2018-04-25 10:00:00</th>\n",
       "      <td>1749</td>\n",
       "      <td>1</td>\n",
       "      <td>806</td>\n",
       "      <td>64.8</td>\n",
       "      <td>79</td>\n",
       "      <td>50.6</td>\n",
       "      <td>47.0</td>\n",
       "      <td>52.20</td>\n",
       "      <td>50.0</td>\n",
       "      <td>50.0</td>\n",
       "    </tr>\n",
       "    <tr>\n",
       "      <th>2018-10-17 20:00:00</th>\n",
       "      <td>2000</td>\n",
       "      <td>2</td>\n",
       "      <td>1608</td>\n",
       "      <td>62.2</td>\n",
       "      <td>97</td>\n",
       "      <td>51.1</td>\n",
       "      <td>51.2</td>\n",
       "      <td>50.00</td>\n",
       "      <td>50.0</td>\n",
       "      <td>50.0</td>\n",
       "    </tr>\n",
       "  </tbody>\n",
       "</table>\n",
       "</div>"
      ],
      "text/plain": [
       "                     visibility  seasons  count_transformed  temp_transformed  \\\n",
       "datetime                                                                        \n",
       "2018-02-23 15:00:00         291        0                362              58.2   \n",
       "2018-08-31 18:00:00        2000        3               2886              78.4   \n",
       "2018-08-23 11:00:00        1992        3                761              79.9   \n",
       "2018-04-25 10:00:00        1749        1                806              64.8   \n",
       "2018-10-17 20:00:00        2000        2               1608              62.2   \n",
       "\n",
       "                     humidity_transformed  wind_speed_transformed  \\\n",
       "datetime                                                            \n",
       "2018-02-23 15:00:00                   112                    50.6   \n",
       "2018-08-31 18:00:00                   107                    52.4   \n",
       "2018-08-23 11:00:00                   107                    51.7   \n",
       "2018-04-25 10:00:00                    79                    50.6   \n",
       "2018-10-17 20:00:00                    97                    51.1   \n",
       "\n",
       "                     dew_point_temp_transformed  solar_radiation_transformed  \\\n",
       "datetime                                                                       \n",
       "2018-02-23 15:00:00                        51.3                        51.22   \n",
       "2018-08-31 18:00:00                        69.0                        50.84   \n",
       "2018-08-23 11:00:00                        70.4                        50.88   \n",
       "2018-04-25 10:00:00                        47.0                        52.20   \n",
       "2018-10-17 20:00:00                        51.2                        50.00   \n",
       "\n",
       "                     rainfall_transformed  snowfall_transformed  \n",
       "datetime                                                         \n",
       "2018-02-23 15:00:00                  50.0                  50.0  \n",
       "2018-08-31 18:00:00                  50.0                  50.0  \n",
       "2018-08-23 11:00:00                  50.1                  50.0  \n",
       "2018-04-25 10:00:00                  50.0                  50.0  \n",
       "2018-10-17 20:00:00                  50.0                  50.0  "
      ]
     },
     "execution_count": 352,
     "metadata": {},
     "output_type": "execute_result"
    }
   ],
   "source": [
    "X_train_rest.head()"
   ]
  },
  {
   "cell_type": "code",
   "execution_count": 353,
   "metadata": {},
   "outputs": [],
   "source": [
    "# obtain k-1 labels\n",
    "X_train_cat = pd.get_dummies(X_train_cat[['holiday', 'functioning_day']], drop_first=True)\n",
    "X_test_cat = pd.get_dummies(X_test_cat[['holiday', 'functioning_day']], drop_first=True)"
   ]
  },
  {
   "cell_type": "code",
   "execution_count": 354,
   "metadata": {},
   "outputs": [
    {
     "data": {
      "text/html": [
       "<div>\n",
       "<style scoped>\n",
       "    .dataframe tbody tr th:only-of-type {\n",
       "        vertical-align: middle;\n",
       "    }\n",
       "\n",
       "    .dataframe tbody tr th {\n",
       "        vertical-align: top;\n",
       "    }\n",
       "\n",
       "    .dataframe thead th {\n",
       "        text-align: right;\n",
       "    }\n",
       "</style>\n",
       "<table border=\"1\" class=\"dataframe\">\n",
       "  <thead>\n",
       "    <tr style=\"text-align: right;\">\n",
       "      <th></th>\n",
       "      <th>holiday_No Holiday</th>\n",
       "      <th>functioning_day_Yes</th>\n",
       "    </tr>\n",
       "    <tr>\n",
       "      <th>datetime</th>\n",
       "      <th></th>\n",
       "      <th></th>\n",
       "    </tr>\n",
       "  </thead>\n",
       "  <tbody>\n",
       "    <tr>\n",
       "      <th>2018-02-23 15:00:00</th>\n",
       "      <td>1</td>\n",
       "      <td>1</td>\n",
       "    </tr>\n",
       "    <tr>\n",
       "      <th>2018-08-31 18:00:00</th>\n",
       "      <td>1</td>\n",
       "      <td>1</td>\n",
       "    </tr>\n",
       "    <tr>\n",
       "      <th>2018-08-23 11:00:00</th>\n",
       "      <td>1</td>\n",
       "      <td>1</td>\n",
       "    </tr>\n",
       "    <tr>\n",
       "      <th>2018-04-25 10:00:00</th>\n",
       "      <td>1</td>\n",
       "      <td>1</td>\n",
       "    </tr>\n",
       "    <tr>\n",
       "      <th>2018-10-17 20:00:00</th>\n",
       "      <td>1</td>\n",
       "      <td>1</td>\n",
       "    </tr>\n",
       "  </tbody>\n",
       "</table>\n",
       "</div>"
      ],
      "text/plain": [
       "                     holiday_No Holiday  functioning_day_Yes\n",
       "datetime                                                    \n",
       "2018-02-23 15:00:00                   1                    1\n",
       "2018-08-31 18:00:00                   1                    1\n",
       "2018-08-23 11:00:00                   1                    1\n",
       "2018-04-25 10:00:00                   1                    1\n",
       "2018-10-17 20:00:00                   1                    1"
      ]
     },
     "execution_count": 354,
     "metadata": {},
     "output_type": "execute_result"
    }
   ],
   "source": [
    "X_train_cat.head()"
   ]
  },
  {
   "cell_type": "code",
   "execution_count": 355,
   "metadata": {},
   "outputs": [],
   "source": [
    "# concat back together\n",
    "X_train = pd.concat([X_train_cat, X_train_rest], axis=1)"
   ]
  },
  {
   "cell_type": "code",
   "execution_count": 356,
   "metadata": {},
   "outputs": [],
   "source": [
    "X_test = pd.concat([X_test_cat, X_test_rest], axis=1)"
   ]
  },
  {
   "cell_type": "code",
   "execution_count": 357,
   "metadata": {},
   "outputs": [
    {
     "data": {
      "text/html": [
       "<div>\n",
       "<style scoped>\n",
       "    .dataframe tbody tr th:only-of-type {\n",
       "        vertical-align: middle;\n",
       "    }\n",
       "\n",
       "    .dataframe tbody tr th {\n",
       "        vertical-align: top;\n",
       "    }\n",
       "\n",
       "    .dataframe thead th {\n",
       "        text-align: right;\n",
       "    }\n",
       "</style>\n",
       "<table border=\"1\" class=\"dataframe\">\n",
       "  <thead>\n",
       "    <tr style=\"text-align: right;\">\n",
       "      <th></th>\n",
       "      <th>holiday_No Holiday</th>\n",
       "      <th>functioning_day_Yes</th>\n",
       "      <th>visibility</th>\n",
       "      <th>seasons</th>\n",
       "      <th>count_transformed</th>\n",
       "      <th>temp_transformed</th>\n",
       "      <th>humidity_transformed</th>\n",
       "      <th>wind_speed_transformed</th>\n",
       "      <th>dew_point_temp_transformed</th>\n",
       "      <th>solar_radiation_transformed</th>\n",
       "      <th>rainfall_transformed</th>\n",
       "      <th>snowfall_transformed</th>\n",
       "    </tr>\n",
       "    <tr>\n",
       "      <th>datetime</th>\n",
       "      <th></th>\n",
       "      <th></th>\n",
       "      <th></th>\n",
       "      <th></th>\n",
       "      <th></th>\n",
       "      <th></th>\n",
       "      <th></th>\n",
       "      <th></th>\n",
       "      <th></th>\n",
       "      <th></th>\n",
       "      <th></th>\n",
       "      <th></th>\n",
       "    </tr>\n",
       "  </thead>\n",
       "  <tbody>\n",
       "    <tr>\n",
       "      <th>2018-02-23 15:00:00</th>\n",
       "      <td>1</td>\n",
       "      <td>1</td>\n",
       "      <td>291</td>\n",
       "      <td>0</td>\n",
       "      <td>362</td>\n",
       "      <td>58.2</td>\n",
       "      <td>112</td>\n",
       "      <td>50.6</td>\n",
       "      <td>51.3</td>\n",
       "      <td>51.22</td>\n",
       "      <td>50.0</td>\n",
       "      <td>50.0</td>\n",
       "    </tr>\n",
       "    <tr>\n",
       "      <th>2018-08-31 18:00:00</th>\n",
       "      <td>1</td>\n",
       "      <td>1</td>\n",
       "      <td>2000</td>\n",
       "      <td>3</td>\n",
       "      <td>2886</td>\n",
       "      <td>78.4</td>\n",
       "      <td>107</td>\n",
       "      <td>52.4</td>\n",
       "      <td>69.0</td>\n",
       "      <td>50.84</td>\n",
       "      <td>50.0</td>\n",
       "      <td>50.0</td>\n",
       "    </tr>\n",
       "    <tr>\n",
       "      <th>2018-08-23 11:00:00</th>\n",
       "      <td>1</td>\n",
       "      <td>1</td>\n",
       "      <td>1992</td>\n",
       "      <td>3</td>\n",
       "      <td>761</td>\n",
       "      <td>79.9</td>\n",
       "      <td>107</td>\n",
       "      <td>51.7</td>\n",
       "      <td>70.4</td>\n",
       "      <td>50.88</td>\n",
       "      <td>50.1</td>\n",
       "      <td>50.0</td>\n",
       "    </tr>\n",
       "    <tr>\n",
       "      <th>2018-04-25 10:00:00</th>\n",
       "      <td>1</td>\n",
       "      <td>1</td>\n",
       "      <td>1749</td>\n",
       "      <td>1</td>\n",
       "      <td>806</td>\n",
       "      <td>64.8</td>\n",
       "      <td>79</td>\n",
       "      <td>50.6</td>\n",
       "      <td>47.0</td>\n",
       "      <td>52.20</td>\n",
       "      <td>50.0</td>\n",
       "      <td>50.0</td>\n",
       "    </tr>\n",
       "    <tr>\n",
       "      <th>2018-10-17 20:00:00</th>\n",
       "      <td>1</td>\n",
       "      <td>1</td>\n",
       "      <td>2000</td>\n",
       "      <td>2</td>\n",
       "      <td>1608</td>\n",
       "      <td>62.2</td>\n",
       "      <td>97</td>\n",
       "      <td>51.1</td>\n",
       "      <td>51.2</td>\n",
       "      <td>50.00</td>\n",
       "      <td>50.0</td>\n",
       "      <td>50.0</td>\n",
       "    </tr>\n",
       "  </tbody>\n",
       "</table>\n",
       "</div>"
      ],
      "text/plain": [
       "                     holiday_No Holiday  functioning_day_Yes  visibility  \\\n",
       "datetime                                                                   \n",
       "2018-02-23 15:00:00                   1                    1         291   \n",
       "2018-08-31 18:00:00                   1                    1        2000   \n",
       "2018-08-23 11:00:00                   1                    1        1992   \n",
       "2018-04-25 10:00:00                   1                    1        1749   \n",
       "2018-10-17 20:00:00                   1                    1        2000   \n",
       "\n",
       "                     seasons  count_transformed  temp_transformed  \\\n",
       "datetime                                                            \n",
       "2018-02-23 15:00:00        0                362              58.2   \n",
       "2018-08-31 18:00:00        3               2886              78.4   \n",
       "2018-08-23 11:00:00        3                761              79.9   \n",
       "2018-04-25 10:00:00        1                806              64.8   \n",
       "2018-10-17 20:00:00        2               1608              62.2   \n",
       "\n",
       "                     humidity_transformed  wind_speed_transformed  \\\n",
       "datetime                                                            \n",
       "2018-02-23 15:00:00                   112                    50.6   \n",
       "2018-08-31 18:00:00                   107                    52.4   \n",
       "2018-08-23 11:00:00                   107                    51.7   \n",
       "2018-04-25 10:00:00                    79                    50.6   \n",
       "2018-10-17 20:00:00                    97                    51.1   \n",
       "\n",
       "                     dew_point_temp_transformed  solar_radiation_transformed  \\\n",
       "datetime                                                                       \n",
       "2018-02-23 15:00:00                        51.3                        51.22   \n",
       "2018-08-31 18:00:00                        69.0                        50.84   \n",
       "2018-08-23 11:00:00                        70.4                        50.88   \n",
       "2018-04-25 10:00:00                        47.0                        52.20   \n",
       "2018-10-17 20:00:00                        51.2                        50.00   \n",
       "\n",
       "                     rainfall_transformed  snowfall_transformed  \n",
       "datetime                                                         \n",
       "2018-02-23 15:00:00                  50.0                  50.0  \n",
       "2018-08-31 18:00:00                  50.0                  50.0  \n",
       "2018-08-23 11:00:00                  50.1                  50.0  \n",
       "2018-04-25 10:00:00                  50.0                  50.0  \n",
       "2018-10-17 20:00:00                  50.0                  50.0  "
      ]
     },
     "execution_count": 357,
     "metadata": {},
     "output_type": "execute_result"
    }
   ],
   "source": [
    "X_train.head()"
   ]
  },
  {
   "cell_type": "code",
   "execution_count": 358,
   "metadata": {},
   "outputs": [
    {
     "data": {
      "text/plain": [
       "Index(['holiday_No Holiday', 'functioning_day_Yes', 'visibility', 'seasons',\n",
       "       'count_transformed', 'temp_transformed', 'humidity_transformed',\n",
       "       'wind_speed_transformed', 'dew_point_temp_transformed',\n",
       "       'solar_radiation_transformed', 'rainfall_transformed',\n",
       "       'snowfall_transformed'],\n",
       "      dtype='object')"
      ]
     },
     "execution_count": 358,
     "metadata": {},
     "output_type": "execute_result"
    }
   ],
   "source": [
    "X_train.columns"
   ]
  },
  {
   "cell_type": "markdown",
   "metadata": {},
   "source": [
    "### Numerical variable transformation"
   ]
  },
  {
   "cell_type": "code",
   "execution_count": 359,
   "metadata": {},
   "outputs": [],
   "source": [
    "# Noted:\n",
    "# 'temp' and 'dew_point_temp' variables contain negative values\n",
    "# therefore, before log transformation, another transformation is needed\n",
    "\n",
    "# I decide to add a constant value of 50 to ensure all values positive"
   ]
  },
  {
   "cell_type": "code",
   "execution_count": 360,
   "metadata": {},
   "outputs": [],
   "source": [
    "# for future comparison use\n",
    "X_train_before_log = X_train.copy()\n",
    "X_test_before_log = X_train.copy()"
   ]
  },
  {
   "cell_type": "code",
   "execution_count": 361,
   "metadata": {},
   "outputs": [
    {
     "data": {
      "text/plain": [
       "Index(['holiday_No Holiday', 'functioning_day_Yes', 'visibility', 'seasons',\n",
       "       'count_transformed', 'temp_transformed', 'humidity_transformed',\n",
       "       'wind_speed_transformed', 'dew_point_temp_transformed',\n",
       "       'solar_radiation_transformed', 'rainfall_transformed',\n",
       "       'snowfall_transformed'],\n",
       "      dtype='object')"
      ]
     },
     "execution_count": 361,
     "metadata": {},
     "output_type": "execute_result"
    }
   ],
   "source": [
    "X_train.columns"
   ]
  },
  {
   "cell_type": "code",
   "execution_count": 362,
   "metadata": {},
   "outputs": [],
   "source": [
    "for var in ['visibility', 'count_transformed', 'temp_transformed', 'humidity_transformed',\n",
    "       'wind_speed_transformed', 'dew_point_temp_transformed',\n",
    "       'solar_radiation_transformed', 'rainfall_transformed',\n",
    "       'snowfall_transformed']:\n",
    "    X_train[var] = np.log(X_train[var])\n",
    "    X_test[var] = np.log(X_test[var])"
   ]
  },
  {
   "cell_type": "code",
   "execution_count": 363,
   "metadata": {},
   "outputs": [
    {
     "data": {
      "text/plain": [
       "[]"
      ]
     },
     "execution_count": 363,
     "metadata": {},
     "output_type": "execute_result"
    }
   ],
   "source": [
    "# check that training set does not contain null values in the engineered variables\n",
    "[var for var in ['visibility', 'count_transformed', 'temp_transformed', 'humidity_transformed',\n",
    "       'wind_speed_transformed', 'dew_point_temp_transformed',\n",
    "       'solar_radiation_transformed', 'rainfall_transformed',\n",
    "       'snowfall_transformed'] if X_train[var].isnull().sum()>0]"
   ]
  },
  {
   "cell_type": "code",
   "execution_count": 364,
   "metadata": {},
   "outputs": [
    {
     "data": {
      "text/plain": [
       "[]"
      ]
     },
     "execution_count": 364,
     "metadata": {},
     "output_type": "execute_result"
    }
   ],
   "source": [
    "# check that training set does not contain null values in the engineered variables\n",
    "[var for var in ['visibility', 'count_transformed', 'temp_transformed', 'humidity_transformed',\n",
    "       'wind_speed_transformed', 'dew_point_temp_transformed',\n",
    "       'solar_radiation_transformed', 'rainfall_transformed',\n",
    "       'snowfall_transformed'] if X_test[var].isnull().sum()>0]"
   ]
  },
  {
   "cell_type": "code",
   "execution_count": 365,
   "metadata": {},
   "outputs": [
    {
     "data": {
      "text/html": [
       "<div>\n",
       "<style scoped>\n",
       "    .dataframe tbody tr th:only-of-type {\n",
       "        vertical-align: middle;\n",
       "    }\n",
       "\n",
       "    .dataframe tbody tr th {\n",
       "        vertical-align: top;\n",
       "    }\n",
       "\n",
       "    .dataframe thead th {\n",
       "        text-align: right;\n",
       "    }\n",
       "</style>\n",
       "<table border=\"1\" class=\"dataframe\">\n",
       "  <thead>\n",
       "    <tr style=\"text-align: right;\">\n",
       "      <th></th>\n",
       "      <th>holiday_No Holiday</th>\n",
       "      <th>functioning_day_Yes</th>\n",
       "      <th>visibility</th>\n",
       "      <th>seasons</th>\n",
       "      <th>count_transformed</th>\n",
       "      <th>temp_transformed</th>\n",
       "      <th>humidity_transformed</th>\n",
       "      <th>wind_speed_transformed</th>\n",
       "      <th>dew_point_temp_transformed</th>\n",
       "      <th>solar_radiation_transformed</th>\n",
       "      <th>rainfall_transformed</th>\n",
       "      <th>snowfall_transformed</th>\n",
       "    </tr>\n",
       "    <tr>\n",
       "      <th>datetime</th>\n",
       "      <th></th>\n",
       "      <th></th>\n",
       "      <th></th>\n",
       "      <th></th>\n",
       "      <th></th>\n",
       "      <th></th>\n",
       "      <th></th>\n",
       "      <th></th>\n",
       "      <th></th>\n",
       "      <th></th>\n",
       "      <th></th>\n",
       "      <th></th>\n",
       "    </tr>\n",
       "  </thead>\n",
       "  <tbody>\n",
       "    <tr>\n",
       "      <th>2018-02-23 15:00:00</th>\n",
       "      <td>1</td>\n",
       "      <td>1</td>\n",
       "      <td>5.673323</td>\n",
       "      <td>0</td>\n",
       "      <td>5.891644</td>\n",
       "      <td>4.063885</td>\n",
       "      <td>4.718499</td>\n",
       "      <td>3.923952</td>\n",
       "      <td>3.937691</td>\n",
       "      <td>3.936130</td>\n",
       "      <td>3.912023</td>\n",
       "      <td>3.912023</td>\n",
       "    </tr>\n",
       "    <tr>\n",
       "      <th>2018-08-31 18:00:00</th>\n",
       "      <td>1</td>\n",
       "      <td>1</td>\n",
       "      <td>7.600902</td>\n",
       "      <td>3</td>\n",
       "      <td>7.967627</td>\n",
       "      <td>4.361824</td>\n",
       "      <td>4.672829</td>\n",
       "      <td>3.958907</td>\n",
       "      <td>4.234107</td>\n",
       "      <td>3.928683</td>\n",
       "      <td>3.912023</td>\n",
       "      <td>3.912023</td>\n",
       "    </tr>\n",
       "    <tr>\n",
       "      <th>2018-08-23 11:00:00</th>\n",
       "      <td>1</td>\n",
       "      <td>1</td>\n",
       "      <td>7.596894</td>\n",
       "      <td>3</td>\n",
       "      <td>6.634633</td>\n",
       "      <td>4.380776</td>\n",
       "      <td>4.672829</td>\n",
       "      <td>3.945458</td>\n",
       "      <td>4.254193</td>\n",
       "      <td>3.929470</td>\n",
       "      <td>3.914021</td>\n",
       "      <td>3.912023</td>\n",
       "    </tr>\n",
       "    <tr>\n",
       "      <th>2018-04-25 10:00:00</th>\n",
       "      <td>1</td>\n",
       "      <td>1</td>\n",
       "      <td>7.466799</td>\n",
       "      <td>1</td>\n",
       "      <td>6.692084</td>\n",
       "      <td>4.171306</td>\n",
       "      <td>4.369448</td>\n",
       "      <td>3.923952</td>\n",
       "      <td>3.850148</td>\n",
       "      <td>3.955082</td>\n",
       "      <td>3.912023</td>\n",
       "      <td>3.912023</td>\n",
       "    </tr>\n",
       "    <tr>\n",
       "      <th>2018-10-17 20:00:00</th>\n",
       "      <td>1</td>\n",
       "      <td>1</td>\n",
       "      <td>7.600902</td>\n",
       "      <td>2</td>\n",
       "      <td>7.382746</td>\n",
       "      <td>4.130355</td>\n",
       "      <td>4.574711</td>\n",
       "      <td>3.933784</td>\n",
       "      <td>3.935740</td>\n",
       "      <td>3.912023</td>\n",
       "      <td>3.912023</td>\n",
       "      <td>3.912023</td>\n",
       "    </tr>\n",
       "    <tr>\n",
       "      <th>...</th>\n",
       "      <td>...</td>\n",
       "      <td>...</td>\n",
       "      <td>...</td>\n",
       "      <td>...</td>\n",
       "      <td>...</td>\n",
       "      <td>...</td>\n",
       "      <td>...</td>\n",
       "      <td>...</td>\n",
       "      <td>...</td>\n",
       "      <td>...</td>\n",
       "      <td>...</td>\n",
       "      <td>...</td>\n",
       "    </tr>\n",
       "    <tr>\n",
       "      <th>2018-06-01 05:00:00</th>\n",
       "      <td>1</td>\n",
       "      <td>1</td>\n",
       "      <td>7.098376</td>\n",
       "      <td>3</td>\n",
       "      <td>5.874931</td>\n",
       "      <td>4.216562</td>\n",
       "      <td>4.828314</td>\n",
       "      <td>3.931826</td>\n",
       "      <td>4.147885</td>\n",
       "      <td>3.912023</td>\n",
       "      <td>3.912023</td>\n",
       "      <td>3.912023</td>\n",
       "    </tr>\n",
       "    <tr>\n",
       "      <th>2018-10-25 19:00:00</th>\n",
       "      <td>1</td>\n",
       "      <td>1</td>\n",
       "      <td>7.434848</td>\n",
       "      <td>2</td>\n",
       "      <td>7.609862</td>\n",
       "      <td>4.195697</td>\n",
       "      <td>4.574711</td>\n",
       "      <td>3.931826</td>\n",
       "      <td>4.007333</td>\n",
       "      <td>3.912023</td>\n",
       "      <td>3.912023</td>\n",
       "      <td>3.912023</td>\n",
       "    </tr>\n",
       "    <tr>\n",
       "      <th>2018-06-21 11:00:00</th>\n",
       "      <td>1</td>\n",
       "      <td>1</td>\n",
       "      <td>6.849066</td>\n",
       "      <td>3</td>\n",
       "      <td>7.017506</td>\n",
       "      <td>4.324133</td>\n",
       "      <td>4.672829</td>\n",
       "      <td>3.947390</td>\n",
       "      <td>4.194190</td>\n",
       "      <td>3.970481</td>\n",
       "      <td>3.912023</td>\n",
       "      <td>3.912023</td>\n",
       "    </tr>\n",
       "    <tr>\n",
       "      <th>2018-04-16 00:00:00</th>\n",
       "      <td>1</td>\n",
       "      <td>1</td>\n",
       "      <td>7.555905</td>\n",
       "      <td>1</td>\n",
       "      <td>6.111467</td>\n",
       "      <td>4.065602</td>\n",
       "      <td>4.691348</td>\n",
       "      <td>3.953165</td>\n",
       "      <td>3.925926</td>\n",
       "      <td>3.912023</td>\n",
       "      <td>3.912023</td>\n",
       "      <td>3.912023</td>\n",
       "    </tr>\n",
       "    <tr>\n",
       "      <th>2018-03-24 20:00:00</th>\n",
       "      <td>1</td>\n",
       "      <td>1</td>\n",
       "      <td>5.313206</td>\n",
       "      <td>1</td>\n",
       "      <td>6.333280</td>\n",
       "      <td>4.044804</td>\n",
       "      <td>4.890349</td>\n",
       "      <td>3.975936</td>\n",
       "      <td>3.996364</td>\n",
       "      <td>3.912023</td>\n",
       "      <td>3.912023</td>\n",
       "      <td>3.912023</td>\n",
       "    </tr>\n",
       "  </tbody>\n",
       "</table>\n",
       "<p>7008 rows × 12 columns</p>\n",
       "</div>"
      ],
      "text/plain": [
       "                     holiday_No Holiday  functioning_day_Yes  visibility  \\\n",
       "datetime                                                                   \n",
       "2018-02-23 15:00:00                   1                    1    5.673323   \n",
       "2018-08-31 18:00:00                   1                    1    7.600902   \n",
       "2018-08-23 11:00:00                   1                    1    7.596894   \n",
       "2018-04-25 10:00:00                   1                    1    7.466799   \n",
       "2018-10-17 20:00:00                   1                    1    7.600902   \n",
       "...                                 ...                  ...         ...   \n",
       "2018-06-01 05:00:00                   1                    1    7.098376   \n",
       "2018-10-25 19:00:00                   1                    1    7.434848   \n",
       "2018-06-21 11:00:00                   1                    1    6.849066   \n",
       "2018-04-16 00:00:00                   1                    1    7.555905   \n",
       "2018-03-24 20:00:00                   1                    1    5.313206   \n",
       "\n",
       "                     seasons  count_transformed  temp_transformed  \\\n",
       "datetime                                                            \n",
       "2018-02-23 15:00:00        0           5.891644          4.063885   \n",
       "2018-08-31 18:00:00        3           7.967627          4.361824   \n",
       "2018-08-23 11:00:00        3           6.634633          4.380776   \n",
       "2018-04-25 10:00:00        1           6.692084          4.171306   \n",
       "2018-10-17 20:00:00        2           7.382746          4.130355   \n",
       "...                      ...                ...               ...   \n",
       "2018-06-01 05:00:00        3           5.874931          4.216562   \n",
       "2018-10-25 19:00:00        2           7.609862          4.195697   \n",
       "2018-06-21 11:00:00        3           7.017506          4.324133   \n",
       "2018-04-16 00:00:00        1           6.111467          4.065602   \n",
       "2018-03-24 20:00:00        1           6.333280          4.044804   \n",
       "\n",
       "                     humidity_transformed  wind_speed_transformed  \\\n",
       "datetime                                                            \n",
       "2018-02-23 15:00:00              4.718499                3.923952   \n",
       "2018-08-31 18:00:00              4.672829                3.958907   \n",
       "2018-08-23 11:00:00              4.672829                3.945458   \n",
       "2018-04-25 10:00:00              4.369448                3.923952   \n",
       "2018-10-17 20:00:00              4.574711                3.933784   \n",
       "...                                   ...                     ...   \n",
       "2018-06-01 05:00:00              4.828314                3.931826   \n",
       "2018-10-25 19:00:00              4.574711                3.931826   \n",
       "2018-06-21 11:00:00              4.672829                3.947390   \n",
       "2018-04-16 00:00:00              4.691348                3.953165   \n",
       "2018-03-24 20:00:00              4.890349                3.975936   \n",
       "\n",
       "                     dew_point_temp_transformed  solar_radiation_transformed  \\\n",
       "datetime                                                                       \n",
       "2018-02-23 15:00:00                    3.937691                     3.936130   \n",
       "2018-08-31 18:00:00                    4.234107                     3.928683   \n",
       "2018-08-23 11:00:00                    4.254193                     3.929470   \n",
       "2018-04-25 10:00:00                    3.850148                     3.955082   \n",
       "2018-10-17 20:00:00                    3.935740                     3.912023   \n",
       "...                                         ...                          ...   \n",
       "2018-06-01 05:00:00                    4.147885                     3.912023   \n",
       "2018-10-25 19:00:00                    4.007333                     3.912023   \n",
       "2018-06-21 11:00:00                    4.194190                     3.970481   \n",
       "2018-04-16 00:00:00                    3.925926                     3.912023   \n",
       "2018-03-24 20:00:00                    3.996364                     3.912023   \n",
       "\n",
       "                     rainfall_transformed  snowfall_transformed  \n",
       "datetime                                                         \n",
       "2018-02-23 15:00:00              3.912023              3.912023  \n",
       "2018-08-31 18:00:00              3.912023              3.912023  \n",
       "2018-08-23 11:00:00              3.914021              3.912023  \n",
       "2018-04-25 10:00:00              3.912023              3.912023  \n",
       "2018-10-17 20:00:00              3.912023              3.912023  \n",
       "...                                   ...                   ...  \n",
       "2018-06-01 05:00:00              3.912023              3.912023  \n",
       "2018-10-25 19:00:00              3.912023              3.912023  \n",
       "2018-06-21 11:00:00              3.912023              3.912023  \n",
       "2018-04-16 00:00:00              3.912023              3.912023  \n",
       "2018-03-24 20:00:00              3.912023              3.912023  \n",
       "\n",
       "[7008 rows x 12 columns]"
      ]
     },
     "execution_count": 365,
     "metadata": {},
     "output_type": "execute_result"
    }
   ],
   "source": [
    "X_train"
   ]
  },
  {
   "cell_type": "code",
   "execution_count": 366,
   "metadata": {},
   "outputs": [
    {
     "data": {
      "image/png": "[encoded data removed]",
      "text/plain": [
       "<Figure size 864x360 with 2 Axes>"
      ]
     },
     "metadata": {
      "needs_background": "light"
     },
     "output_type": "display_data"
    }
   ],
   "source": [
    "# compare the variable distributions before and after log transformation\n",
    "\n",
    "fig, (ax1, ax2) = plt.subplots(ncols=2, figsize=(12,5))\n",
    "\n",
    "# before scaling\n",
    "ax1.set_title('Before transformed')\n",
    "sns.kdeplot(X_train_before_log['visibility'], ax=ax1)\n",
    "sns.kdeplot(X_train_before_log['count_transformed'], ax=ax1)\n",
    "sns.kdeplot(X_train_before_log['temp_transformed'], ax=ax1)\n",
    "sns.kdeplot(X_train_before_log['humidity_transformed'], ax=ax1)\n",
    "sns.kdeplot(X_train_before_log['wind_speed_transformed'], ax=ax1)\n",
    "sns.kdeplot(X_train_before_log['dew_point_temp_transformed'], ax=ax1)\n",
    "sns.kdeplot(X_train_before_log['solar_radiation_transformed'], ax=ax1)\n",
    "sns.kdeplot(X_train_before_log['rainfall_transformed'], ax=ax1)\n",
    "sns.kdeplot(X_train_before_log['snowfall_transformed'], ax=ax1)\n",
    "\n",
    "# after scaling\n",
    "ax2.set_title('After transformed')\n",
    "sns.kdeplot(X_train['visibility'], ax=ax2)\n",
    "sns.kdeplot(X_train['count_transformed'], ax=ax2)\n",
    "sns.kdeplot(X_train['temp_transformed'], ax=ax2)\n",
    "sns.kdeplot(X_train['humidity_transformed'], ax=ax2)\n",
    "sns.kdeplot(X_train['wind_speed_transformed'], ax=ax2)\n",
    "sns.kdeplot(X_train['dew_point_temp_transformed'], ax=ax2)\n",
    "sns.kdeplot(X_train['solar_radiation_transformed'], ax=ax2)\n",
    "sns.kdeplot(X_train['rainfall_transformed'], ax=ax2)\n",
    "sns.kdeplot(X_train['snowfall_transformed'], ax=ax2)\n",
    "plt.show()"
   ]
  },
  {
   "cell_type": "markdown",
   "metadata": {},
   "source": [
    "### Feature scaling"
   ]
  },
  {
   "cell_type": "code",
   "execution_count": 367,
   "metadata": {},
   "outputs": [],
   "source": [
    "# In future model building, we will use linear regression and svr\n",
    "# because they are sensitive to feature magnitutde, we need to do feature scaling\n",
    "# we decide to use standardization"
   ]
  },
  {
   "cell_type": "code",
   "execution_count": 368,
   "metadata": {},
   "outputs": [],
   "source": [
    "# standard scale numeric variables except the target"
   ]
  },
  {
   "cell_type": "code",
   "execution_count": 369,
   "metadata": {},
   "outputs": [],
   "source": [
    "X_train_before_scaled = X_train.copy()\n",
    "X_test_before_scaled = X_test.copy()"
   ]
  },
  {
   "cell_type": "code",
   "execution_count": 370,
   "metadata": {},
   "outputs": [
    {
     "data": {
      "text/plain": [
       "Index(['holiday_No Holiday', 'functioning_day_Yes', 'visibility', 'seasons',\n",
       "       'count_transformed', 'temp_transformed', 'humidity_transformed',\n",
       "       'wind_speed_transformed', 'dew_point_temp_transformed',\n",
       "       'solar_radiation_transformed', 'rainfall_transformed',\n",
       "       'snowfall_transformed'],\n",
       "      dtype='object')"
      ]
     },
     "execution_count": 370,
     "metadata": {},
     "output_type": "execute_result"
    }
   ],
   "source": [
    "X_train.columns"
   ]
  },
  {
   "cell_type": "code",
   "execution_count": 371,
   "metadata": {},
   "outputs": [
    {
     "data": {
      "text/plain": [
       "['holiday_No Holiday',\n",
       " 'functioning_day_Yes',\n",
       " 'visibility',\n",
       " 'seasons',\n",
       " 'temp_transformed',\n",
       " 'humidity_transformed',\n",
       " 'wind_speed_transformed',\n",
       " 'dew_point_temp_transformed',\n",
       " 'solar_radiation_transformed',\n",
       " 'rainfall_transformed',\n",
       " 'snowfall_transformed']"
      ]
     },
     "execution_count": 371,
     "metadata": {},
     "output_type": "execute_result"
    }
   ],
   "source": [
    "# capture all variables in a list, except the target\n",
    "\n",
    "train_vars = [var for var in X_train.columns if var not in ['count_transformed']]\n",
    "train_vars"
   ]
  },
  {
   "cell_type": "code",
   "execution_count": 372,
   "metadata": {},
   "outputs": [],
   "source": [
    "# scaler, for standardization\n",
    "from sklearn.preprocessing import StandardScaler\n",
    "\n",
    "# set up the scaler\n",
    "scaler = StandardScaler()\n",
    "\n",
    "# fit the scaler to the training set\n",
    "scaler.fit(X_train[train_vars])\n",
    "\n",
    "# transform training and test sets\n",
    "X_train[train_vars] = scaler.transform(X_train[train_vars])\n",
    "X_test[train_vars] = scaler.transform(X_test[train_vars])"
   ]
  },
  {
   "cell_type": "code",
   "execution_count": 373,
   "metadata": {},
   "outputs": [
    {
     "data": {
      "text/plain": [
       "(array([0.94891553, 0.96775114, 7.11663767, 1.50827626, 4.12139739,\n",
       "        4.66518295, 3.9457557 , 3.95583892, 3.92327855, 3.91471939,\n",
       "        3.91350363]),\n",
       " array([0.22017005, 0.17666032, 0.64892344, 1.11544778, 0.20096568,\n",
       "        0.19307414, 0.01995181, 0.26939052, 0.01708811, 0.01981654,\n",
       "        0.00847697]))"
      ]
     },
     "execution_count": 373,
     "metadata": {},
     "output_type": "execute_result"
    }
   ],
   "source": [
    "# the scaler stores the mean and sd of the features\n",
    "scaler.mean_, scaler.scale_"
   ]
  },
  {
   "cell_type": "code",
   "execution_count": 374,
   "metadata": {},
   "outputs": [],
   "source": [
    "# transform the NumPy arrays to dataframes\n",
    "X_train = pd.DataFrame(X_train, columns = X_train.columns)\n",
    "X_test = pd.DataFrame(X_test, columns = X_test.columns)"
   ]
  },
  {
   "cell_type": "code",
   "execution_count": 375,
   "metadata": {},
   "outputs": [
    {
     "data": {
      "text/html": [
       "<div>\n",
       "<style scoped>\n",
       "    .dataframe tbody tr th:only-of-type {\n",
       "        vertical-align: middle;\n",
       "    }\n",
       "\n",
       "    .dataframe tbody tr th {\n",
       "        vertical-align: top;\n",
       "    }\n",
       "\n",
       "    .dataframe thead th {\n",
       "        text-align: right;\n",
       "    }\n",
       "</style>\n",
       "<table border=\"1\" class=\"dataframe\">\n",
       "  <thead>\n",
       "    <tr style=\"text-align: right;\">\n",
       "      <th></th>\n",
       "      <th>holiday_No Holiday</th>\n",
       "      <th>functioning_day_Yes</th>\n",
       "      <th>visibility</th>\n",
       "      <th>seasons</th>\n",
       "      <th>count_transformed</th>\n",
       "      <th>temp_transformed</th>\n",
       "      <th>humidity_transformed</th>\n",
       "      <th>wind_speed_transformed</th>\n",
       "      <th>dew_point_temp_transformed</th>\n",
       "      <th>solar_radiation_transformed</th>\n",
       "      <th>rainfall_transformed</th>\n",
       "      <th>snowfall_transformed</th>\n",
       "    </tr>\n",
       "    <tr>\n",
       "      <th>datetime</th>\n",
       "      <th></th>\n",
       "      <th></th>\n",
       "      <th></th>\n",
       "      <th></th>\n",
       "      <th></th>\n",
       "      <th></th>\n",
       "      <th></th>\n",
       "      <th></th>\n",
       "      <th></th>\n",
       "      <th></th>\n",
       "      <th></th>\n",
       "      <th></th>\n",
       "    </tr>\n",
       "  </thead>\n",
       "  <tbody>\n",
       "    <tr>\n",
       "      <th>2018-02-23 15:00:00</th>\n",
       "      <td>1</td>\n",
       "      <td>1</td>\n",
       "      <td>5.673323</td>\n",
       "      <td>0</td>\n",
       "      <td>5.891644</td>\n",
       "      <td>4.063885</td>\n",
       "      <td>4.718499</td>\n",
       "      <td>3.923952</td>\n",
       "      <td>3.937691</td>\n",
       "      <td>3.936130</td>\n",
       "      <td>3.912023</td>\n",
       "      <td>3.912023</td>\n",
       "    </tr>\n",
       "    <tr>\n",
       "      <th>2018-08-31 18:00:00</th>\n",
       "      <td>1</td>\n",
       "      <td>1</td>\n",
       "      <td>7.600902</td>\n",
       "      <td>3</td>\n",
       "      <td>7.967627</td>\n",
       "      <td>4.361824</td>\n",
       "      <td>4.672829</td>\n",
       "      <td>3.958907</td>\n",
       "      <td>4.234107</td>\n",
       "      <td>3.928683</td>\n",
       "      <td>3.912023</td>\n",
       "      <td>3.912023</td>\n",
       "    </tr>\n",
       "    <tr>\n",
       "      <th>2018-08-23 11:00:00</th>\n",
       "      <td>1</td>\n",
       "      <td>1</td>\n",
       "      <td>7.596894</td>\n",
       "      <td>3</td>\n",
       "      <td>6.634633</td>\n",
       "      <td>4.380776</td>\n",
       "      <td>4.672829</td>\n",
       "      <td>3.945458</td>\n",
       "      <td>4.254193</td>\n",
       "      <td>3.929470</td>\n",
       "      <td>3.914021</td>\n",
       "      <td>3.912023</td>\n",
       "    </tr>\n",
       "    <tr>\n",
       "      <th>2018-04-25 10:00:00</th>\n",
       "      <td>1</td>\n",
       "      <td>1</td>\n",
       "      <td>7.466799</td>\n",
       "      <td>1</td>\n",
       "      <td>6.692084</td>\n",
       "      <td>4.171306</td>\n",
       "      <td>4.369448</td>\n",
       "      <td>3.923952</td>\n",
       "      <td>3.850148</td>\n",
       "      <td>3.955082</td>\n",
       "      <td>3.912023</td>\n",
       "      <td>3.912023</td>\n",
       "    </tr>\n",
       "    <tr>\n",
       "      <th>2018-10-17 20:00:00</th>\n",
       "      <td>1</td>\n",
       "      <td>1</td>\n",
       "      <td>7.600902</td>\n",
       "      <td>2</td>\n",
       "      <td>7.382746</td>\n",
       "      <td>4.130355</td>\n",
       "      <td>4.574711</td>\n",
       "      <td>3.933784</td>\n",
       "      <td>3.935740</td>\n",
       "      <td>3.912023</td>\n",
       "      <td>3.912023</td>\n",
       "      <td>3.912023</td>\n",
       "    </tr>\n",
       "  </tbody>\n",
       "</table>\n",
       "</div>"
      ],
      "text/plain": [
       "                     holiday_No Holiday  functioning_day_Yes  visibility  \\\n",
       "datetime                                                                   \n",
       "2018-02-23 15:00:00                   1                    1    5.673323   \n",
       "2018-08-31 18:00:00                   1                    1    7.600902   \n",
       "2018-08-23 11:00:00                   1                    1    7.596894   \n",
       "2018-04-25 10:00:00                   1                    1    7.466799   \n",
       "2018-10-17 20:00:00                   1                    1    7.600902   \n",
       "\n",
       "                     seasons  count_transformed  temp_transformed  \\\n",
       "datetime                                                            \n",
       "2018-02-23 15:00:00        0           5.891644          4.063885   \n",
       "2018-08-31 18:00:00        3           7.967627          4.361824   \n",
       "2018-08-23 11:00:00        3           6.634633          4.380776   \n",
       "2018-04-25 10:00:00        1           6.692084          4.171306   \n",
       "2018-10-17 20:00:00        2           7.382746          4.130355   \n",
       "\n",
       "                     humidity_transformed  wind_speed_transformed  \\\n",
       "datetime                                                            \n",
       "2018-02-23 15:00:00              4.718499                3.923952   \n",
       "2018-08-31 18:00:00              4.672829                3.958907   \n",
       "2018-08-23 11:00:00              4.672829                3.945458   \n",
       "2018-04-25 10:00:00              4.369448                3.923952   \n",
       "2018-10-17 20:00:00              4.574711                3.933784   \n",
       "\n",
       "                     dew_point_temp_transformed  solar_radiation_transformed  \\\n",
       "datetime                                                                       \n",
       "2018-02-23 15:00:00                    3.937691                     3.936130   \n",
       "2018-08-31 18:00:00                    4.234107                     3.928683   \n",
       "2018-08-23 11:00:00                    4.254193                     3.929470   \n",
       "2018-04-25 10:00:00                    3.850148                     3.955082   \n",
       "2018-10-17 20:00:00                    3.935740                     3.912023   \n",
       "\n",
       "                     rainfall_transformed  snowfall_transformed  \n",
       "datetime                                                         \n",
       "2018-02-23 15:00:00              3.912023              3.912023  \n",
       "2018-08-31 18:00:00              3.912023              3.912023  \n",
       "2018-08-23 11:00:00              3.914021              3.912023  \n",
       "2018-04-25 10:00:00              3.912023              3.912023  \n",
       "2018-10-17 20:00:00              3.912023              3.912023  "
      ]
     },
     "execution_count": 375,
     "metadata": {},
     "output_type": "execute_result"
    }
   ],
   "source": [
    "X_train_before_scaled.head()"
   ]
  },
  {
   "cell_type": "code",
   "execution_count": 376,
   "metadata": {},
   "outputs": [
    {
     "data": {
      "text/html": [
       "<div>\n",
       "<style scoped>\n",
       "    .dataframe tbody tr th:only-of-type {\n",
       "        vertical-align: middle;\n",
       "    }\n",
       "\n",
       "    .dataframe tbody tr th {\n",
       "        vertical-align: top;\n",
       "    }\n",
       "\n",
       "    .dataframe thead th {\n",
       "        text-align: right;\n",
       "    }\n",
       "</style>\n",
       "<table border=\"1\" class=\"dataframe\">\n",
       "  <thead>\n",
       "    <tr style=\"text-align: right;\">\n",
       "      <th></th>\n",
       "      <th>holiday_No Holiday</th>\n",
       "      <th>functioning_day_Yes</th>\n",
       "      <th>visibility</th>\n",
       "      <th>seasons</th>\n",
       "      <th>count_transformed</th>\n",
       "      <th>temp_transformed</th>\n",
       "      <th>humidity_transformed</th>\n",
       "      <th>wind_speed_transformed</th>\n",
       "      <th>dew_point_temp_transformed</th>\n",
       "      <th>solar_radiation_transformed</th>\n",
       "      <th>rainfall_transformed</th>\n",
       "      <th>snowfall_transformed</th>\n",
       "    </tr>\n",
       "    <tr>\n",
       "      <th>datetime</th>\n",
       "      <th></th>\n",
       "      <th></th>\n",
       "      <th></th>\n",
       "      <th></th>\n",
       "      <th></th>\n",
       "      <th></th>\n",
       "      <th></th>\n",
       "      <th></th>\n",
       "      <th></th>\n",
       "      <th></th>\n",
       "      <th></th>\n",
       "      <th></th>\n",
       "    </tr>\n",
       "  </thead>\n",
       "  <tbody>\n",
       "    <tr>\n",
       "      <th>2018-02-23 15:00:00</th>\n",
       "      <td>0.232023</td>\n",
       "      <td>0.182547</td>\n",
       "      <td>-2.224167</td>\n",
       "      <td>-1.352171</td>\n",
       "      <td>5.891644</td>\n",
       "      <td>-0.286178</td>\n",
       "      <td>0.276142</td>\n",
       "      <td>-1.092839</td>\n",
       "      <td>-0.067368</td>\n",
       "      <td>0.752075</td>\n",
       "      <td>-0.136067</td>\n",
       "      <td>-0.174664</td>\n",
       "    </tr>\n",
       "    <tr>\n",
       "      <th>2018-08-31 18:00:00</th>\n",
       "      <td>0.232023</td>\n",
       "      <td>0.182547</td>\n",
       "      <td>0.746259</td>\n",
       "      <td>1.337332</td>\n",
       "      <td>7.967627</td>\n",
       "      <td>1.196356</td>\n",
       "      <td>0.039601</td>\n",
       "      <td>0.659133</td>\n",
       "      <td>1.032952</td>\n",
       "      <td>0.316296</td>\n",
       "      <td>-0.136067</td>\n",
       "      <td>-0.174664</td>\n",
       "    </tr>\n",
       "    <tr>\n",
       "      <th>2018-08-23 11:00:00</th>\n",
       "      <td>0.232023</td>\n",
       "      <td>0.182547</td>\n",
       "      <td>0.740082</td>\n",
       "      <td>1.337332</td>\n",
       "      <td>6.634633</td>\n",
       "      <td>1.290660</td>\n",
       "      <td>0.039601</td>\n",
       "      <td>-0.014932</td>\n",
       "      <td>1.107516</td>\n",
       "      <td>0.362320</td>\n",
       "      <td>-0.035242</td>\n",
       "      <td>-0.174664</td>\n",
       "    </tr>\n",
       "    <tr>\n",
       "      <th>2018-04-25 10:00:00</th>\n",
       "      <td>0.232023</td>\n",
       "      <td>0.182547</td>\n",
       "      <td>0.539604</td>\n",
       "      <td>-0.455670</td>\n",
       "      <td>6.692084</td>\n",
       "      <td>0.248342</td>\n",
       "      <td>-1.531718</td>\n",
       "      <td>-1.092839</td>\n",
       "      <td>-0.392335</td>\n",
       "      <td>1.861174</td>\n",
       "      <td>-0.136067</td>\n",
       "      <td>-0.174664</td>\n",
       "    </tr>\n",
       "    <tr>\n",
       "      <th>2018-10-17 20:00:00</th>\n",
       "      <td>0.232023</td>\n",
       "      <td>0.182547</td>\n",
       "      <td>0.746259</td>\n",
       "      <td>0.440831</td>\n",
       "      <td>7.382746</td>\n",
       "      <td>0.044573</td>\n",
       "      <td>-0.468587</td>\n",
       "      <td>-0.600006</td>\n",
       "      <td>-0.074611</td>\n",
       "      <td>-0.658677</td>\n",
       "      <td>-0.136067</td>\n",
       "      <td>-0.174664</td>\n",
       "    </tr>\n",
       "  </tbody>\n",
       "</table>\n",
       "</div>"
      ],
      "text/plain": [
       "                     holiday_No Holiday  functioning_day_Yes  visibility  \\\n",
       "datetime                                                                   \n",
       "2018-02-23 15:00:00            0.232023             0.182547   -2.224167   \n",
       "2018-08-31 18:00:00            0.232023             0.182547    0.746259   \n",
       "2018-08-23 11:00:00            0.232023             0.182547    0.740082   \n",
       "2018-04-25 10:00:00            0.232023             0.182547    0.539604   \n",
       "2018-10-17 20:00:00            0.232023             0.182547    0.746259   \n",
       "\n",
       "                      seasons  count_transformed  temp_transformed  \\\n",
       "datetime                                                             \n",
       "2018-02-23 15:00:00 -1.352171           5.891644         -0.286178   \n",
       "2018-08-31 18:00:00  1.337332           7.967627          1.196356   \n",
       "2018-08-23 11:00:00  1.337332           6.634633          1.290660   \n",
       "2018-04-25 10:00:00 -0.455670           6.692084          0.248342   \n",
       "2018-10-17 20:00:00  0.440831           7.382746          0.044573   \n",
       "\n",
       "                     humidity_transformed  wind_speed_transformed  \\\n",
       "datetime                                                            \n",
       "2018-02-23 15:00:00              0.276142               -1.092839   \n",
       "2018-08-31 18:00:00              0.039601                0.659133   \n",
       "2018-08-23 11:00:00              0.039601               -0.014932   \n",
       "2018-04-25 10:00:00             -1.531718               -1.092839   \n",
       "2018-10-17 20:00:00             -0.468587               -0.600006   \n",
       "\n",
       "                     dew_point_temp_transformed  solar_radiation_transformed  \\\n",
       "datetime                                                                       \n",
       "2018-02-23 15:00:00                   -0.067368                     0.752075   \n",
       "2018-08-31 18:00:00                    1.032952                     0.316296   \n",
       "2018-08-23 11:00:00                    1.107516                     0.362320   \n",
       "2018-04-25 10:00:00                   -0.392335                     1.861174   \n",
       "2018-10-17 20:00:00                   -0.074611                    -0.658677   \n",
       "\n",
       "                     rainfall_transformed  snowfall_transformed  \n",
       "datetime                                                         \n",
       "2018-02-23 15:00:00             -0.136067             -0.174664  \n",
       "2018-08-31 18:00:00             -0.136067             -0.174664  \n",
       "2018-08-23 11:00:00             -0.035242             -0.174664  \n",
       "2018-04-25 10:00:00             -0.136067             -0.174664  \n",
       "2018-10-17 20:00:00             -0.136067             -0.174664  "
      ]
     },
     "execution_count": 376,
     "metadata": {},
     "output_type": "execute_result"
    }
   ],
   "source": [
    "X_train.head()"
   ]
  },
  {
   "cell_type": "code",
   "execution_count": 377,
   "metadata": {},
   "outputs": [
    {
     "data": {
      "image/png": "[encoded data removed]",
      "text/plain": [
       "<Figure size 864x360 with 2 Axes>"
      ]
     },
     "metadata": {
      "needs_background": "light"
     },
     "output_type": "display_data"
    }
   ],
   "source": [
    "# compare the variable distributions before and after scaling\n",
    "\n",
    "fig, (ax1, ax2) = plt.subplots(ncols=2, figsize=(12,5))\n",
    "\n",
    "# before scaling\n",
    "ax1.set_title('Before Scaling')\n",
    "sns.kdeplot(X_train_before_scaled['visibility'], ax=ax1)\n",
    "sns.kdeplot(X_train_before_scaled['count_transformed'], ax=ax1)\n",
    "sns.kdeplot(X_train_before_scaled['temp_transformed'], ax=ax1)\n",
    "sns.kdeplot(X_train_before_scaled['humidity_transformed'], ax=ax1)\n",
    "sns.kdeplot(X_train_before_scaled['wind_speed_transformed'], ax=ax1)\n",
    "sns.kdeplot(X_train_before_scaled['dew_point_temp_transformed'], ax=ax1)\n",
    "sns.kdeplot(X_train_before_scaled['solar_radiation_transformed'], ax=ax1)\n",
    "sns.kdeplot(X_train_before_scaled['rainfall_transformed'], ax=ax1)\n",
    "sns.kdeplot(X_train_before_scaled['snowfall_transformed'], ax=ax1)\n",
    "sns.kdeplot(X_train_before_scaled['seasons'], ax=ax1)\n",
    "sns.kdeplot(X_train_before_scaled['holiday_No Holiday'], ax=ax1)\n",
    "sns.kdeplot(X_train_before_scaled['functioning_day_Yes'], ax=ax1)\n",
    "\n",
    "# after scaling\n",
    "ax2.set_title('After Scaling')\n",
    "sns.kdeplot(X_train['visibility'], ax=ax2)\n",
    "sns.kdeplot(X_train['count_transformed'], ax=ax2)\n",
    "sns.kdeplot(X_train['temp_transformed'], ax=ax2)\n",
    "sns.kdeplot(X_train['humidity_transformed'], ax=ax2)\n",
    "sns.kdeplot(X_train['wind_speed_transformed'], ax=ax2)\n",
    "sns.kdeplot(X_train['dew_point_temp_transformed'], ax=ax2)\n",
    "sns.kdeplot(X_train['solar_radiation_transformed'], ax=ax2)\n",
    "sns.kdeplot(X_train['rainfall_transformed'], ax=ax2)\n",
    "sns.kdeplot(X_train['snowfall_transformed'], ax=ax2)\n",
    "sns.kdeplot(X_train['seasons'], ax=ax2)\n",
    "sns.kdeplot(X_train['holiday_No Holiday'], ax=ax2)\n",
    "sns.kdeplot(X_train['functioning_day_Yes'], ax=ax2)\n",
    "plt.show()"
   ]
  },
  {
   "cell_type": "code",
   "execution_count": 378,
   "metadata": {},
   "outputs": [
    {
     "data": {
      "image/png": "[encoded data removed]",
      "text/plain": [
       "<Figure size 432x288 with 1 Axes>"
      ]
     },
     "metadata": {
      "needs_background": "light"
     },
     "output_type": "display_data"
    }
   ],
   "source": [
    "# check linear relationships before scaling\n",
    "plt.scatter(X_train_before_scaled['temp_transformed'], X_train_before_scaled['count_transformed'], s=70, alpha=0.03)\n",
    "plt.show()"
   ]
  },
  {
   "cell_type": "code",
   "execution_count": 379,
   "metadata": {},
   "outputs": [
    {
     "data": {
      "image/png": "[encoded data removed]",
      "text/plain": [
       "<Figure size 432x288 with 1 Axes>"
      ]
     },
     "metadata": {
      "needs_background": "light"
     },
     "output_type": "display_data"
    }
   ],
   "source": [
    "# after\n",
    "plt.scatter(X_train['temp_transformed'], X_train['count_transformed'], s=70, alpha=0.03)\n",
    "plt.show()"
   ]
  },
  {
   "cell_type": "code",
   "execution_count": 380,
   "metadata": {},
   "outputs": [],
   "source": [
    "# preserved very well"
   ]
  },
  {
   "cell_type": "markdown",
   "metadata": {},
   "source": [
    "##### save as a csv for future modeling use"
   ]
  },
  {
   "cell_type": "code",
   "execution_count": 381,
   "metadata": {},
   "outputs": [],
   "source": [
    "X_train.to_csv('x_train_regression.csv', index=False)\n",
    "X_test.to_csv('x_test_regression.csv', index=False)"
   ]
  }
 ],
 "metadata": {
  "kernelspec": {
   "display_name": "Python 3",
   "language": "python",
   "name": "python3"
  },
  "language_info": {
   "codemirror_mode": {
    "name": "ipython",
    "version": 3
   },
   "file_extension": ".py",
   "mimetype": "text/x-python",
   "name": "python",
   "nbconvert_exporter": "python",
   "pygments_lexer": "ipython3",
   "version": "3.7.3"
  }
 },
 "nbformat": 4,
 "nbformat_minor": 2
}
