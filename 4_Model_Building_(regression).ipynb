{
 "cells": [
  {
   "cell_type": "code",
   "execution_count": 59,
   "metadata": {},
   "outputs": [],
   "source": [
    "import pandas as pd\n",
    "import numpy as np\n",
    "import matplotlib.pyplot as plt\n",
    "import seaborn as sns"
   ]
  },
  {
   "cell_type": "code",
   "execution_count": 60,
   "metadata": {},
   "outputs": [],
   "source": [
    "import warnings\n",
    "warnings.filterwarnings(\"ignore\")"
   ]
  },
  {
   "cell_type": "code",
   "execution_count": 61,
   "metadata": {},
   "outputs": [],
   "source": [
    "X_train = pd.read_csv('x_train_regression.csv')\n",
    "X_test = pd.read_csv('x_test_regression.csv')"
   ]
  },
  {
   "cell_type": "code",
   "execution_count": 62,
   "metadata": {},
   "outputs": [
    {
     "data": {
      "text/html": [
       "<div>\n",
       "<style scoped>\n",
       "    .dataframe tbody tr th:only-of-type {\n",
       "        vertical-align: middle;\n",
       "    }\n",
       "\n",
       "    .dataframe tbody tr th {\n",
       "        vertical-align: top;\n",
       "    }\n",
       "\n",
       "    .dataframe thead th {\n",
       "        text-align: right;\n",
       "    }\n",
       "</style>\n",
       "<table border=\"1\" class=\"dataframe\">\n",
       "  <thead>\n",
       "    <tr style=\"text-align: right;\">\n",
       "      <th></th>\n",
       "      <th>holiday_No Holiday</th>\n",
       "      <th>functioning_day_Yes</th>\n",
       "      <th>visibility</th>\n",
       "      <th>seasons</th>\n",
       "      <th>count_transformed</th>\n",
       "      <th>temp_transformed</th>\n",
       "      <th>humidity_transformed</th>\n",
       "      <th>wind_speed_transformed</th>\n",
       "      <th>dew_point_temp_transformed</th>\n",
       "      <th>solar_radiation_transformed</th>\n",
       "      <th>rainfall_transformed</th>\n",
       "      <th>snowfall_transformed</th>\n",
       "    </tr>\n",
       "  </thead>\n",
       "  <tbody>\n",
       "    <tr>\n",
       "      <th>0</th>\n",
       "      <td>0.232023</td>\n",
       "      <td>0.182547</td>\n",
       "      <td>-2.224167</td>\n",
       "      <td>-1.352171</td>\n",
       "      <td>5.891644</td>\n",
       "      <td>-0.286178</td>\n",
       "      <td>0.276142</td>\n",
       "      <td>-1.092839</td>\n",
       "      <td>-0.067368</td>\n",
       "      <td>0.752075</td>\n",
       "      <td>-0.136067</td>\n",
       "      <td>-0.174664</td>\n",
       "    </tr>\n",
       "    <tr>\n",
       "      <th>1</th>\n",
       "      <td>0.232023</td>\n",
       "      <td>0.182547</td>\n",
       "      <td>0.746259</td>\n",
       "      <td>1.337332</td>\n",
       "      <td>7.967627</td>\n",
       "      <td>1.196356</td>\n",
       "      <td>0.039601</td>\n",
       "      <td>0.659133</td>\n",
       "      <td>1.032952</td>\n",
       "      <td>0.316296</td>\n",
       "      <td>-0.136067</td>\n",
       "      <td>-0.174664</td>\n",
       "    </tr>\n",
       "    <tr>\n",
       "      <th>2</th>\n",
       "      <td>0.232023</td>\n",
       "      <td>0.182547</td>\n",
       "      <td>0.740082</td>\n",
       "      <td>1.337332</td>\n",
       "      <td>6.634633</td>\n",
       "      <td>1.290660</td>\n",
       "      <td>0.039601</td>\n",
       "      <td>-0.014932</td>\n",
       "      <td>1.107516</td>\n",
       "      <td>0.362320</td>\n",
       "      <td>-0.035242</td>\n",
       "      <td>-0.174664</td>\n",
       "    </tr>\n",
       "    <tr>\n",
       "      <th>3</th>\n",
       "      <td>0.232023</td>\n",
       "      <td>0.182547</td>\n",
       "      <td>0.539604</td>\n",
       "      <td>-0.455670</td>\n",
       "      <td>6.692084</td>\n",
       "      <td>0.248342</td>\n",
       "      <td>-1.531718</td>\n",
       "      <td>-1.092839</td>\n",
       "      <td>-0.392335</td>\n",
       "      <td>1.861174</td>\n",
       "      <td>-0.136067</td>\n",
       "      <td>-0.174664</td>\n",
       "    </tr>\n",
       "    <tr>\n",
       "      <th>4</th>\n",
       "      <td>0.232023</td>\n",
       "      <td>0.182547</td>\n",
       "      <td>0.746259</td>\n",
       "      <td>0.440831</td>\n",
       "      <td>7.382746</td>\n",
       "      <td>0.044573</td>\n",
       "      <td>-0.468587</td>\n",
       "      <td>-0.600006</td>\n",
       "      <td>-0.074611</td>\n",
       "      <td>-0.658677</td>\n",
       "      <td>-0.136067</td>\n",
       "      <td>-0.174664</td>\n",
       "    </tr>\n",
       "  </tbody>\n",
       "</table>\n",
       "</div>"
      ],
      "text/plain": [
       "   holiday_No Holiday  functioning_day_Yes  visibility   seasons  \\\n",
       "0            0.232023             0.182547   -2.224167 -1.352171   \n",
       "1            0.232023             0.182547    0.746259  1.337332   \n",
       "2            0.232023             0.182547    0.740082  1.337332   \n",
       "3            0.232023             0.182547    0.539604 -0.455670   \n",
       "4            0.232023             0.182547    0.746259  0.440831   \n",
       "\n",
       "   count_transformed  temp_transformed  humidity_transformed  \\\n",
       "0           5.891644         -0.286178              0.276142   \n",
       "1           7.967627          1.196356              0.039601   \n",
       "2           6.634633          1.290660              0.039601   \n",
       "3           6.692084          0.248342             -1.531718   \n",
       "4           7.382746          0.044573             -0.468587   \n",
       "\n",
       "   wind_speed_transformed  dew_point_temp_transformed  \\\n",
       "0               -1.092839                   -0.067368   \n",
       "1                0.659133                    1.032952   \n",
       "2               -0.014932                    1.107516   \n",
       "3               -1.092839                   -0.392335   \n",
       "4               -0.600006                   -0.074611   \n",
       "\n",
       "   solar_radiation_transformed  rainfall_transformed  snowfall_transformed  \n",
       "0                     0.752075             -0.136067             -0.174664  \n",
       "1                     0.316296             -0.136067             -0.174664  \n",
       "2                     0.362320             -0.035242             -0.174664  \n",
       "3                     1.861174             -0.136067             -0.174664  \n",
       "4                    -0.658677             -0.136067             -0.174664  "
      ]
     },
     "execution_count": 62,
     "metadata": {},
     "output_type": "execute_result"
    }
   ],
   "source": [
    "X_train.head()"
   ]
  },
  {
   "cell_type": "code",
   "execution_count": 63,
   "metadata": {},
   "outputs": [
    {
     "data": {
      "text/html": [
       "<div>\n",
       "<style scoped>\n",
       "    .dataframe tbody tr th:only-of-type {\n",
       "        vertical-align: middle;\n",
       "    }\n",
       "\n",
       "    .dataframe tbody tr th {\n",
       "        vertical-align: top;\n",
       "    }\n",
       "\n",
       "    .dataframe thead th {\n",
       "        text-align: right;\n",
       "    }\n",
       "</style>\n",
       "<table border=\"1\" class=\"dataframe\">\n",
       "  <thead>\n",
       "    <tr style=\"text-align: right;\">\n",
       "      <th></th>\n",
       "      <th>holiday_No Holiday</th>\n",
       "      <th>functioning_day_Yes</th>\n",
       "      <th>visibility</th>\n",
       "      <th>seasons</th>\n",
       "      <th>count_transformed</th>\n",
       "      <th>temp_transformed</th>\n",
       "      <th>humidity_transformed</th>\n",
       "      <th>wind_speed_transformed</th>\n",
       "      <th>dew_point_temp_transformed</th>\n",
       "      <th>solar_radiation_transformed</th>\n",
       "      <th>rainfall_transformed</th>\n",
       "      <th>snowfall_transformed</th>\n",
       "    </tr>\n",
       "  </thead>\n",
       "  <tbody>\n",
       "    <tr>\n",
       "      <th>0</th>\n",
       "      <td>0.232023</td>\n",
       "      <td>0.182547</td>\n",
       "      <td>0.746259</td>\n",
       "      <td>-0.455670</td>\n",
       "      <td>5.913503</td>\n",
       "      <td>-0.076897</td>\n",
       "      <td>0.761373</td>\n",
       "      <td>-0.404221</td>\n",
       "      <td>0.258037</td>\n",
       "      <td>-0.658677</td>\n",
       "      <td>-0.136067</td>\n",
       "      <td>-0.174664</td>\n",
       "    </tr>\n",
       "    <tr>\n",
       "      <th>1</th>\n",
       "      <td>0.232023</td>\n",
       "      <td>0.182547</td>\n",
       "      <td>0.746259</td>\n",
       "      <td>0.440831</td>\n",
       "      <td>6.445720</td>\n",
       "      <td>0.751837</td>\n",
       "      <td>0.967749</td>\n",
       "      <td>-0.698186</td>\n",
       "      <td>0.956860</td>\n",
       "      <td>-0.658677</td>\n",
       "      <td>-0.136067</td>\n",
       "      <td>-0.174664</td>\n",
       "    </tr>\n",
       "    <tr>\n",
       "      <th>2</th>\n",
       "      <td>0.232023</td>\n",
       "      <td>0.182547</td>\n",
       "      <td>-0.230644</td>\n",
       "      <td>-1.352171</td>\n",
       "      <td>5.620401</td>\n",
       "      <td>-0.695882</td>\n",
       "      <td>0.413050</td>\n",
       "      <td>2.444316</td>\n",
       "      <td>-0.337456</td>\n",
       "      <td>-0.623575</td>\n",
       "      <td>-0.136067</td>\n",
       "      <td>0.765314</td>\n",
       "    </tr>\n",
       "    <tr>\n",
       "      <th>3</th>\n",
       "      <td>0.232023</td>\n",
       "      <td>0.182547</td>\n",
       "      <td>0.746259</td>\n",
       "      <td>-1.352171</td>\n",
       "      <td>5.370638</td>\n",
       "      <td>-2.115017</td>\n",
       "      <td>-0.259291</td>\n",
       "      <td>1.040281</td>\n",
       "      <td>-1.807721</td>\n",
       "      <td>-0.658677</td>\n",
       "      <td>-0.136067</td>\n",
       "      <td>-0.174664</td>\n",
       "    </tr>\n",
       "    <tr>\n",
       "      <th>4</th>\n",
       "      <td>0.232023</td>\n",
       "      <td>0.182547</td>\n",
       "      <td>0.248567</td>\n",
       "      <td>1.337332</td>\n",
       "      <td>6.545350</td>\n",
       "      <td>1.515911</td>\n",
       "      <td>0.087781</td>\n",
       "      <td>1.793991</td>\n",
       "      <td>1.297657</td>\n",
       "      <td>1.614016</td>\n",
       "      <td>-0.136067</td>\n",
       "      <td>-0.174664</td>\n",
       "    </tr>\n",
       "  </tbody>\n",
       "</table>\n",
       "</div>"
      ],
      "text/plain": [
       "   holiday_No Holiday  functioning_day_Yes  visibility   seasons  \\\n",
       "0            0.232023             0.182547    0.746259 -0.455670   \n",
       "1            0.232023             0.182547    0.746259  0.440831   \n",
       "2            0.232023             0.182547   -0.230644 -1.352171   \n",
       "3            0.232023             0.182547    0.746259 -1.352171   \n",
       "4            0.232023             0.182547    0.248567  1.337332   \n",
       "\n",
       "   count_transformed  temp_transformed  humidity_transformed  \\\n",
       "0           5.913503         -0.076897              0.761373   \n",
       "1           6.445720          0.751837              0.967749   \n",
       "2           5.620401         -0.695882              0.413050   \n",
       "3           5.370638         -2.115017             -0.259291   \n",
       "4           6.545350          1.515911              0.087781   \n",
       "\n",
       "   wind_speed_transformed  dew_point_temp_transformed  \\\n",
       "0               -0.404221                    0.258037   \n",
       "1               -0.698186                    0.956860   \n",
       "2                2.444316                   -0.337456   \n",
       "3                1.040281                   -1.807721   \n",
       "4                1.793991                    1.297657   \n",
       "\n",
       "   solar_radiation_transformed  rainfall_transformed  snowfall_transformed  \n",
       "0                    -0.658677             -0.136067             -0.174664  \n",
       "1                    -0.658677             -0.136067             -0.174664  \n",
       "2                    -0.623575             -0.136067              0.765314  \n",
       "3                    -0.658677             -0.136067             -0.174664  \n",
       "4                     1.614016             -0.136067             -0.174664  "
      ]
     },
     "execution_count": 63,
     "metadata": {},
     "output_type": "execute_result"
    }
   ],
   "source": [
    "X_test.head()"
   ]
  },
  {
   "cell_type": "code",
   "execution_count": 64,
   "metadata": {},
   "outputs": [],
   "source": [
    "y_train = X_train['count_transformed']\n",
    "y_test = X_test['count_transformed']"
   ]
  },
  {
   "cell_type": "code",
   "execution_count": 65,
   "metadata": {},
   "outputs": [],
   "source": [
    "X_train = X_train.drop(columns=['count_transformed'])\n",
    "X_test = X_test.drop(columns=['count_transformed'])"
   ]
  },
  {
   "cell_type": "markdown",
   "metadata": {},
   "source": [
    "# Model Building"
   ]
  },
  {
   "cell_type": "markdown",
   "metadata": {},
   "source": [
    "### Plan:"
   ]
  },
  {
   "cell_type": "code",
   "execution_count": 66,
   "metadata": {},
   "outputs": [],
   "source": [
    "\n",
    "# Multiple linear regression\n",
    "from sklearn.linear_model import LinearRegression\n",
    "\n",
    "# Ridge regression\n",
    "from sklearn.linear_model import Ridge\n",
    "\n",
    "# Lasso regression\n",
    "from sklearn.linear_model import Lasso\n",
    "\n",
    "# Polynomial regression\n",
    "from sklearn.preprocessing import PolynomialFeatures\n",
    "\n",
    "# SVR\n",
    "from sklearn.svm import SVR\n",
    "\n",
    "# Decision Tree regression\n",
    "from sklearn.tree import DecisionTreeRegressor\n",
    "\n",
    "# Random Forest regression\n",
    "from sklearn.ensemble import RandomForestRegressor\n",
    "\n",
    "# to evaluate the model\n",
    "from sklearn.metrics import mean_squared_error, r2_score\n",
    "from math import sqrt"
   ]
  },
  {
   "cell_type": "markdown",
   "metadata": {},
   "source": [
    "### Multiple Linear Regression"
   ]
  },
  {
   "cell_type": "code",
   "execution_count": 68,
   "metadata": {},
   "outputs": [
    {
     "data": {
      "text/plain": [
       "LinearRegression()"
      ]
     },
     "execution_count": 68,
     "metadata": {},
     "output_type": "execute_result"
    }
   ],
   "source": [
    "lm = LinearRegression()\n",
    "lm.fit(X_train, y_train)"
   ]
  },
  {
   "cell_type": "code",
   "execution_count": 69,
   "metadata": {},
   "outputs": [
    {
     "name": "stdout",
     "output_type": "stream",
     "text": [
      "train mse: 284809\n",
      "train rmse: 533\n",
      "train r2: 0.3141130232985305\n",
      "\n",
      "test mse: 302133\n",
      "test rmse: 549\n",
      "test r2: 0.2780954398734091\n",
      "\n"
     ]
    }
   ],
   "source": [
    "# evaluate the model\n",
    "\n",
    "# transform target and predictions (log) back to original\n",
    "\n",
    "# we evaluate using the mean squared error,\n",
    "# the root of the mean squared error, and r2\n",
    "\n",
    "# make predictions for train set\n",
    "pred = lm.predict(X_train)\n",
    "\n",
    "# determine mse and rmse\n",
    "print('train mse: {}'.format(int(\n",
    "    mean_squared_error(np.exp(y_train), np.exp(pred)))))\n",
    "print('train rmse: {}'.format(int(\n",
    "    sqrt(mean_squared_error(np.exp(y_train), np.exp(pred))))))\n",
    "print('train r2: {}'.format(\n",
    "    r2_score(np.exp(y_train), np.exp(pred))))\n",
    "print()\n",
    "\n",
    "# make predictions for test set\n",
    "pred = lm.predict(X_test)\n",
    "\n",
    "# determine mse and rmse\n",
    "print('test mse: {}'.format(int(\n",
    "    mean_squared_error(np.exp(y_test), np.exp(pred)))))\n",
    "print('test rmse: {}'.format(int(\n",
    "    sqrt(mean_squared_error(np.exp(y_test), np.exp(pred))))))\n",
    "print('test r2: {}'.format(\n",
    "    r2_score(np.exp(y_test), np.exp(pred))))\n",
    "print()"
   ]
  },
  {
   "cell_type": "code",
   "execution_count": 70,
   "metadata": {},
   "outputs": [
    {
     "data": {
      "text/plain": [
       "Text(0.5, 1.0, 'Evaluation of Linear Regression Predictions')"
      ]
     },
     "execution_count": 70,
     "metadata": {},
     "output_type": "execute_result"
    },
    {
     "data": {
      "image/png": "[encoded data removed]",
      "text/plain": [
       "<Figure size 432x288 with 1 Axes>"
      ]
     },
     "metadata": {
      "needs_background": "light"
     },
     "output_type": "display_data"
    }
   ],
   "source": [
    "# evaluate the predictions respect to the real values\n",
    "plt.scatter(y_test, lm.predict(X_test))\n",
    "plt.xlabel('True count')\n",
    "plt.ylabel('Predicted count')\n",
    "plt.title('Evaluation of Linear Regression Predictions')"
   ]
  },
  {
   "cell_type": "code",
   "execution_count": 71,
   "metadata": {},
   "outputs": [
    {
     "data": {
      "text/plain": [
       "<matplotlib.axes._subplots.AxesSubplot at 0x22f889bdf60>"
      ]
     },
     "execution_count": 71,
     "metadata": {},
     "output_type": "execute_result"
    },
    {
     "data": {
      "image/png": "[encoded data removed]",
      "text/plain": [
       "<Figure size 432x288 with 1 Axes>"
      ]
     },
     "metadata": {
      "needs_background": "light"
     },
     "output_type": "display_data"
    }
   ],
   "source": [
    "# evaluate the distribution of the errors:\n",
    "# they should be fairly normally distributed\n",
    "\n",
    "errors = y_test - lm.predict(X_test)\n",
    "errors.hist(bins=30)"
   ]
  },
  {
   "cell_type": "code",
   "execution_count": 72,
   "metadata": {},
   "outputs": [
    {
     "data": {
      "text/plain": [
       "Index(['holiday_No Holiday', 'functioning_day_Yes', 'visibility', 'seasons',\n",
       "       'temp_transformed', 'humidity_transformed', 'wind_speed_transformed',\n",
       "       'dew_point_temp_transformed', 'solar_radiation_transformed',\n",
       "       'rainfall_transformed', 'snowfall_transformed'],\n",
       "      dtype='object')"
      ]
     },
     "execution_count": 72,
     "metadata": {},
     "output_type": "execute_result"
    }
   ],
   "source": [
    "X_train.columns"
   ]
  },
  {
   "cell_type": "code",
   "execution_count": 73,
   "metadata": {},
   "outputs": [
    {
     "data": {
      "text/plain": [
       "Text(0.5, 1.0, 'Feature Importance')"
      ]
     },
     "execution_count": 73,
     "metadata": {},
     "output_type": "execute_result"
    },
    {
     "data": {
      "image/png": "[encoded data removed]",
      "text/plain": [
       "<Figure size 1296x432 with 1 Axes>"
      ]
     },
     "metadata": {
      "needs_background": "light"
     },
     "output_type": "display_data"
    }
   ],
   "source": [
    "# Finally, just for fun, let's look at the feature importance\n",
    "\n",
    "importance = pd.Series(np.abs(lm.coef_.ravel()))\n",
    "importance.index = ['holiday_No Holiday', 'functioning_day_Yes', 'visibility', 'seasons',\n",
    "       'temp_transformed', 'humidity_transformed', 'wind_speed_transformed',\n",
    "       'dew_point_temp_transformed', 'solar_radiation_transformed',\n",
    "       'rainfall_transformed', 'snowfall_transformed']\n",
    "importance.sort_values(inplace=True, ascending=False)\n",
    "importance.plot.bar(figsize=(18,6))\n",
    "plt.ylabel('Lm Coefficients')\n",
    "plt.title('Feature Importance')"
   ]
  },
  {
   "cell_type": "markdown",
   "metadata": {},
   "source": [
    "### Regularization: Lasso regression"
   ]
  },
  {
   "cell_type": "code",
   "execution_count": 74,
   "metadata": {},
   "outputs": [
    {
     "data": {
      "text/plain": [
       "Lasso(alpha=0.005, random_state=0)"
      ]
     },
     "execution_count": 74,
     "metadata": {},
     "output_type": "execute_result"
    }
   ],
   "source": [
    "l1 = Lasso(alpha=0.005, random_state=0)\n",
    "\n",
    "l1.fit(X_train, y_train)"
   ]
  },
  {
   "cell_type": "code",
   "execution_count": 75,
   "metadata": {},
   "outputs": [
    {
     "name": "stdout",
     "output_type": "stream",
     "text": [
      "train mse: 268771\n",
      "train rmse: 518\n",
      "train r2: 0.3527376849662849\n",
      "\n",
      "test mse: 276785\n",
      "test rmse: 526\n",
      "test r2: 0.33866035797405836\n",
      "\n"
     ]
    }
   ],
   "source": [
    "# evaluate the model\n",
    "\n",
    "# transform target and predictions (log) back to original\n",
    "\n",
    "# we evaluate using the mean squared error,\n",
    "# the root of the mean squared error, and r2\n",
    "\n",
    "# make predictions for train set\n",
    "pred = l1.predict(X_train)\n",
    "\n",
    "# determine mse and rmse\n",
    "print('train mse: {}'.format(int(\n",
    "    mean_squared_error(np.exp(y_train), np.exp(pred)))))\n",
    "print('train rmse: {}'.format(int(\n",
    "    sqrt(mean_squared_error(np.exp(y_train), np.exp(pred))))))\n",
    "print('train r2: {}'.format(\n",
    "    r2_score(np.exp(y_train), np.exp(pred))))\n",
    "print()\n",
    "\n",
    "# make predictions for test set\n",
    "pred = l1.predict(X_test)\n",
    "\n",
    "# determine mse and rmse\n",
    "print('test mse: {}'.format(int(\n",
    "    mean_squared_error(np.exp(y_test), np.exp(pred)))))\n",
    "print('test rmse: {}'.format(int(\n",
    "    sqrt(mean_squared_error(np.exp(y_test), np.exp(pred))))))\n",
    "print('test r2: {}'.format(\n",
    "    r2_score(np.exp(y_test), np.exp(pred))))\n",
    "print()"
   ]
  },
  {
   "cell_type": "code",
   "execution_count": 76,
   "metadata": {},
   "outputs": [
    {
     "data": {
      "text/plain": [
       "Text(0.5, 1.0, 'Evaluation of Lasso Regression Predictions')"
      ]
     },
     "execution_count": 76,
     "metadata": {},
     "output_type": "execute_result"
    },
    {
     "data": {
      "image/png": "[encoded data removed]",
      "text/plain": [
       "<Figure size 432x288 with 1 Axes>"
      ]
     },
     "metadata": {
      "needs_background": "light"
     },
     "output_type": "display_data"
    }
   ],
   "source": [
    "# evaluate the predictions respect to the real values\n",
    "plt.scatter(y_test, l1.predict(X_test))\n",
    "plt.xlabel('True count')\n",
    "plt.ylabel('Predicted count')\n",
    "plt.title('Evaluation of Lasso Regression Predictions')"
   ]
  },
  {
   "cell_type": "markdown",
   "metadata": {},
   "source": [
    "### Regularizaton: Ridge Regression"
   ]
  },
  {
   "cell_type": "code",
   "execution_count": 77,
   "metadata": {},
   "outputs": [
    {
     "data": {
      "text/plain": [
       "Ridge(alpha=0.005, random_state=0)"
      ]
     },
     "execution_count": 77,
     "metadata": {},
     "output_type": "execute_result"
    }
   ],
   "source": [
    "l2 = Ridge(alpha=0.005, random_state=0)\n",
    "l2.fit(X_train, y_train)"
   ]
  },
  {
   "cell_type": "code",
   "execution_count": 78,
   "metadata": {},
   "outputs": [
    {
     "name": "stdout",
     "output_type": "stream",
     "text": [
      "train mse: 284803\n",
      "train rmse: 533\n",
      "train r2: 0.31412791033588827\n",
      "\n",
      "test mse: 302124\n",
      "test rmse: 549\n",
      "test r2: 0.27811735024048234\n",
      "\n"
     ]
    }
   ],
   "source": [
    "# evaluate the model\n",
    "\n",
    "# transform target and predictions (log) back to original\n",
    "\n",
    "# we evaluate using the mean squared error,\n",
    "# the root of the mean squared error, and r2\n",
    "\n",
    "# make predictions for train set\n",
    "pred = l2.predict(X_train)\n",
    "\n",
    "# determine mse and rmse\n",
    "print('train mse: {}'.format(int(\n",
    "    mean_squared_error(np.exp(y_train), np.exp(pred)))))\n",
    "print('train rmse: {}'.format(int(\n",
    "    sqrt(mean_squared_error(np.exp(y_train), np.exp(pred))))))\n",
    "print('train r2: {}'.format(\n",
    "    r2_score(np.exp(y_train), np.exp(pred))))\n",
    "print()\n",
    "\n",
    "# make predictions for test set\n",
    "pred = l2.predict(X_test)\n",
    "\n",
    "# determine mse and rmse\n",
    "print('test mse: {}'.format(int(\n",
    "    mean_squared_error(np.exp(y_test), np.exp(pred)))))\n",
    "print('test rmse: {}'.format(int(\n",
    "    sqrt(mean_squared_error(np.exp(y_test), np.exp(pred))))))\n",
    "print('test r2: {}'.format(\n",
    "    r2_score(np.exp(y_test), np.exp(pred))))\n",
    "print()"
   ]
  },
  {
   "cell_type": "code",
   "execution_count": 79,
   "metadata": {},
   "outputs": [
    {
     "data": {
      "text/plain": [
       "Text(0.5, 1.0, 'Evaluation of Rdige Regression Predictions')"
      ]
     },
     "execution_count": 79,
     "metadata": {},
     "output_type": "execute_result"
    },
    {
     "data": {
      "image/png": "[encoded data removed]",
      "text/plain": [
       "<Figure size 432x288 with 1 Axes>"
      ]
     },
     "metadata": {
      "needs_background": "light"
     },
     "output_type": "display_data"
    }
   ],
   "source": [
    "# evaluate the predictions respect to the real values\n",
    "plt.scatter(y_test, l2.predict(X_test))\n",
    "plt.xlabel('True count')\n",
    "plt.ylabel('Predicted count')\n",
    "plt.title('Evaluation of Rdige Regression Predictions')"
   ]
  },
  {
   "cell_type": "code",
   "execution_count": 80,
   "metadata": {},
   "outputs": [
    {
     "data": {
      "text/plain": [
       "SVR()"
      ]
     },
     "execution_count": 80,
     "metadata": {},
     "output_type": "execute_result"
    }
   ],
   "source": [
    "svr = SVR(kernel='rbf')\n",
    "svr.fit(X_train, y_train)"
   ]
  },
  {
   "cell_type": "code",
   "execution_count": 81,
   "metadata": {},
   "outputs": [
    {
     "name": "stdout",
     "output_type": "stream",
     "text": [
      "train mse: 147183\n",
      "train rmse: 383\n",
      "train r2: 0.6455490175099433\n",
      "\n",
      "test mse: 149027\n",
      "test rmse: 386\n",
      "test r2: 0.6439195714445495\n",
      "\n"
     ]
    }
   ],
   "source": [
    "# evaluate the model\n",
    "\n",
    "# transform target and predictions (log) back to original\n",
    "\n",
    "# we evaluate using the mean squared error,\n",
    "# the root of the mean squared error, and r2\n",
    "\n",
    "# make predictions for train set\n",
    "pred = svr.predict(X_train)\n",
    "\n",
    "# determine mse and rmse\n",
    "print('train mse: {}'.format(int(\n",
    "    mean_squared_error(np.exp(y_train), np.exp(pred)))))\n",
    "print('train rmse: {}'.format(int(\n",
    "    sqrt(mean_squared_error(np.exp(y_train), np.exp(pred))))))\n",
    "print('train r2: {}'.format(\n",
    "    r2_score(np.exp(y_train), np.exp(pred))))\n",
    "print()\n",
    "\n",
    "# make predictions for test set\n",
    "pred = svr.predict(X_test)\n",
    "\n",
    "# determine mse and rmse\n",
    "print('test mse: {}'.format(int(\n",
    "    mean_squared_error(np.exp(y_test), np.exp(pred)))))\n",
    "print('test rmse: {}'.format(int(\n",
    "    sqrt(mean_squared_error(np.exp(y_test), np.exp(pred))))))\n",
    "print('test r2: {}'.format(\n",
    "    r2_score(np.exp(y_test), np.exp(pred))))\n",
    "print()"
   ]
  },
  {
   "cell_type": "code",
   "execution_count": 82,
   "metadata": {},
   "outputs": [
    {
     "data": {
      "text/plain": [
       "Text(0.5, 1.0, 'Evaluation of SVR Predictions')"
      ]
     },
     "execution_count": 82,
     "metadata": {},
     "output_type": "execute_result"
    },
    {
     "data": {
      "image/png": "[encoded data removed]",
      "text/plain": [
       "<Figure size 432x288 with 1 Axes>"
      ]
     },
     "metadata": {
      "needs_background": "light"
     },
     "output_type": "display_data"
    }
   ],
   "source": [
    "# evaluate the predictions respect to the real values\n",
    "plt.scatter(y_test, svr.predict(X_test))\n",
    "plt.xlabel('True count')\n",
    "plt.ylabel('Predicted count')\n",
    "plt.title('Evaluation of SVR Predictions')"
   ]
  },
  {
   "cell_type": "code",
   "execution_count": 83,
   "metadata": {},
   "outputs": [
    {
     "data": {
      "text/plain": [
       "<matplotlib.axes._subplots.AxesSubplot at 0x22f88bd4898>"
      ]
     },
     "execution_count": 83,
     "metadata": {},
     "output_type": "execute_result"
    },
    {
     "data": {
      "image/png": "[encoded data removed]",
      "text/plain": [
       "<Figure size 432x288 with 1 Axes>"
      ]
     },
     "metadata": {
      "needs_background": "light"
     },
     "output_type": "display_data"
    }
   ],
   "source": [
    "# evaluate the distribution of the errors:\n",
    "# they should be fairly normally distributed\n",
    "\n",
    "errors = y_test - svr.predict(X_test)\n",
    "errors.hist(bins=30)"
   ]
  },
  {
   "cell_type": "markdown",
   "metadata": {},
   "source": [
    "### Decision Tree Regression"
   ]
  },
  {
   "cell_type": "code",
   "execution_count": 84,
   "metadata": {},
   "outputs": [
    {
     "data": {
      "text/plain": [
       "DecisionTreeRegressor(random_state=0)"
      ]
     },
     "execution_count": 84,
     "metadata": {},
     "output_type": "execute_result"
    }
   ],
   "source": [
    "dt = DecisionTreeRegressor(random_state=0)\n",
    "dt.fit(X_train, y_train)"
   ]
  },
  {
   "cell_type": "code",
   "execution_count": 85,
   "metadata": {},
   "outputs": [
    {
     "name": "stdout",
     "output_type": "stream",
     "text": [
      "train mse: 127\n",
      "train rmse: 11\n",
      "train r2: 0.9996939299549149\n",
      "\n",
      "test mse: 219102\n",
      "test rmse: 468\n",
      "test r2: 0.47648700923057463\n",
      "\n"
     ]
    }
   ],
   "source": [
    "# evaluate the model\n",
    "\n",
    "# transform target and predictions (log) back to original\n",
    "\n",
    "# we evaluate using the mean squared error,\n",
    "# the root of the mean squared error, and r2\n",
    "\n",
    "# make predictions for train set\n",
    "pred = dt.predict(X_train)\n",
    "\n",
    "# determine mse and rmse\n",
    "print('train mse: {}'.format(int(\n",
    "    mean_squared_error(np.exp(y_train), np.exp(pred)))))\n",
    "print('train rmse: {}'.format(int(\n",
    "    sqrt(mean_squared_error(np.exp(y_train), np.exp(pred))))))\n",
    "print('train r2: {}'.format(\n",
    "    r2_score(np.exp(y_train), np.exp(pred))))\n",
    "print()\n",
    "\n",
    "# make predictions for test set\n",
    "pred = dt.predict(X_test)\n",
    "\n",
    "# determine mse and rmse\n",
    "print('test mse: {}'.format(int(\n",
    "    mean_squared_error(np.exp(y_test), np.exp(pred)))))\n",
    "print('test rmse: {}'.format(int(\n",
    "    sqrt(mean_squared_error(np.exp(y_test), np.exp(pred))))))\n",
    "print('test r2: {}'.format(\n",
    "    r2_score(np.exp(y_test), np.exp(pred))))\n",
    "print()"
   ]
  },
  {
   "cell_type": "code",
   "execution_count": 86,
   "metadata": {},
   "outputs": [
    {
     "data": {
      "text/plain": [
       "Text(0.5, 1.0, 'Evaluation of Decision Tree Regression Predictions')"
      ]
     },
     "execution_count": 86,
     "metadata": {},
     "output_type": "execute_result"
    },
    {
     "data": {
      "image/png": "[encoded data removed]",
      "text/plain": [
       "<Figure size 432x288 with 1 Axes>"
      ]
     },
     "metadata": {
      "needs_background": "light"
     },
     "output_type": "display_data"
    }
   ],
   "source": [
    "# evaluate the predictions respect to the real values\n",
    "plt.scatter(y_test, dt.predict(X_test))\n",
    "plt.xlabel('True Price')\n",
    "plt.ylabel('Predicted Price')\n",
    "plt.title('Evaluation of Decision Tree Regression Predictions')"
   ]
  },
  {
   "cell_type": "markdown",
   "metadata": {},
   "source": [
    "### Random Forest"
   ]
  },
  {
   "cell_type": "code",
   "execution_count": 87,
   "metadata": {},
   "outputs": [
    {
     "data": {
      "text/plain": [
       "RandomForestRegressor()"
      ]
     },
     "execution_count": 87,
     "metadata": {},
     "output_type": "execute_result"
    }
   ],
   "source": [
    "rf = RandomForestRegressor()\n",
    "rf.fit(X_train, y_train)"
   ]
  },
  {
   "cell_type": "code",
   "execution_count": 88,
   "metadata": {},
   "outputs": [
    {
     "name": "stdout",
     "output_type": "stream",
     "text": [
      "train mse: 22128\n",
      "train rmse: 148\n",
      "train r2: 0.9467088469585204\n",
      "\n",
      "test mse: 128452\n",
      "test rmse: 358\n",
      "test r2: 0.693080083022984\n",
      "\n"
     ]
    }
   ],
   "source": [
    "# evaluate the model\n",
    "\n",
    "# transform target and predictions (log) back to original\n",
    "\n",
    "# we evaluate using the mean squared error,\n",
    "# the root of the mean squared error, and r2\n",
    "\n",
    "# make predictions for train set\n",
    "pred = rf.predict(X_train)\n",
    "\n",
    "# determine mse and rmse\n",
    "print('train mse: {}'.format(int(\n",
    "    mean_squared_error(np.exp(y_train), np.exp(pred)))))\n",
    "print('train rmse: {}'.format(int(\n",
    "    sqrt(mean_squared_error(np.exp(y_train), np.exp(pred))))))\n",
    "print('train r2: {}'.format(\n",
    "    r2_score(np.exp(y_train), np.exp(pred))))\n",
    "print()\n",
    "\n",
    "# make predictions for test set\n",
    "pred = rf.predict(X_test)\n",
    "\n",
    "# determine mse and rmse\n",
    "print('test mse: {}'.format(int(\n",
    "    mean_squared_error(np.exp(y_test), np.exp(pred)))))\n",
    "print('test rmse: {}'.format(int(\n",
    "    sqrt(mean_squared_error(np.exp(y_test), np.exp(pred))))))\n",
    "print('test r2: {}'.format(\n",
    "    r2_score(np.exp(y_test), np.exp(pred))))\n",
    "print()"
   ]
  },
  {
   "cell_type": "code",
   "execution_count": 89,
   "metadata": {},
   "outputs": [
    {
     "data": {
      "text/plain": [
       "Text(0.5, 1.0, 'Evaluation of Random Forest Regression Predictions')"
      ]
     },
     "execution_count": 89,
     "metadata": {},
     "output_type": "execute_result"
    },
    {
     "data": {
      "image/png": "[encoded data removed]",
      "text/plain": [
       "<Figure size 432x288 with 1 Axes>"
      ]
     },
     "metadata": {
      "needs_background": "light"
     },
     "output_type": "display_data"
    }
   ],
   "source": [
    "# evaluate the predictions respect to the real values\n",
    "plt.scatter(y_test, rf.predict(X_test))\n",
    "plt.xlabel('True Price')\n",
    "plt.ylabel('Predicted Price')\n",
    "plt.title('Evaluation of Random Forest Regression Predictions')"
   ]
  },
  {
   "cell_type": "code",
   "execution_count": 90,
   "metadata": {},
   "outputs": [
    {
     "data": {
      "text/plain": [
       "<matplotlib.axes._subplots.AxesSubplot at 0x22f88cd46a0>"
      ]
     },
     "execution_count": 90,
     "metadata": {},
     "output_type": "execute_result"
    },
    {
     "data": {
      "image/png": "[encoded data removed]",
      "text/plain": [
       "<Figure size 432x288 with 1 Axes>"
      ]
     },
     "metadata": {
      "needs_background": "light"
     },
     "output_type": "display_data"
    }
   ],
   "source": [
    "# evaluate the distribution of the errors:\n",
    "# they should be fairly normally distributed\n",
    "\n",
    "errors = y_test - rf.predict(X_test)\n",
    "errors.hist(bins=30)"
   ]
  },
  {
   "cell_type": "markdown",
   "metadata": {},
   "source": [
    "Conclusion:\n",
    "Overall, random forest model with the best rmse and r squared values, did the best job in prediction. However, random forest and decision tree tend to overfit the data, while SVR algorithm in this case fit the training set and prediction the test set equallly well, though both slightly lower than what random forest predicts"
   ]
  }
 ],
 "metadata": {
  "kernelspec": {
   "display_name": "Python 3",
   "language": "python",
   "name": "python3"
  },
  "language_info": {
   "codemirror_mode": {
    "name": "ipython",
    "version": 3
   },
   "file_extension": ".py",
   "mimetype": "text/x-python",
   "name": "python",
   "nbconvert_exporter": "python",
   "pygments_lexer": "ipython3",
   "version": "3.7.3"
  }
 },
 "nbformat": 4,
 "nbformat_minor": 2
}
